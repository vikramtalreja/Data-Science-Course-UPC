{
 "cells": [
  {
   "cell_type": "markdown",
   "metadata": {},
   "source": [
    "# INTRODUCTION TO PYTHON"
   ]
  },
  {
   "cell_type": "markdown",
   "metadata": {},
   "source": [
    "### CONTENT\n",
    "1. Introduction to Jupyter Notebooks \n",
    "2. Variables and data structures \n",
    "3. Conditionals\n",
    "4. Lists and loops\n",
    "5. Diccionaries and frequency tables\n",
    "6. Functions \n",
    "7. Advanced functions\n",
    "8. Object-oriented language\n",
    "9. Introduction to NumPy \n",
    "10. Introduction to Pandas\n",
    "11. Visualization and graph creation"
   ]
  },
  {
   "cell_type": "markdown",
   "metadata": {},
   "source": [
    "## 1. Introduction to Jupyter Notebooks\n",
    "\n",
    "<img src=\"Figures/Jupyter.png\" alt=\"Drawing\" style=\"width: 100px;\"/>\n",
    "\n",
    "Jupyter notebooks is an environment (IDE) that allows to interleave text content (to be called 'Markdown' cell) with Python code ('Code' cell) that can be executed cell by cell as shown in the following examples.\n",
    "\n",
    "The basic commands to start using Jupyter Notebooks are:\n",
    "\n",
    "<img src=\"Figures/menu-vEng.png\" alt=\"Drawing\" style=\"width: 850px;\"/>\n",
    "\n",
    "* `Shift+Enter`: Execute cell and select next cell.\n",
    "* `Alt+Enter`: Execute cell and insert a new cell.\n",
    "* `ESC`: to start 'command' mode. Once in this mode:\n",
    "    * `H` list of commands\n",
    "    * `A` insert cell above\n",
    "    * `B` insert cell below\n",
    "    * `D,D` D twice to delete cell\n",
    "    * `Y` change cell type to 'Code'\n",
    "    * `M` change cell type to 'Markdown'\n",
    "    * `Enter` go back to 'edit' mode."
   ]
  },
  {
   "cell_type": "markdown",
   "metadata": {},
   "source": [
    "#### Execute the cell below using any of the possible commands"
   ]
  },
  {
   "cell_type": "code",
   "execution_count": null,
   "metadata": {},
   "outputs": [],
   "source": [
    "3 + 4 + 9"
   ]
  },
  {
   "cell_type": "code",
   "execution_count": null,
   "metadata": {},
   "outputs": [],
   "source": [
    "# Python code example\n",
    "# Change values a and b, and observe the result when executing the cell \n",
    "\n",
    "a=87\n",
    "b=34\n",
    "c=a+b\n",
    "\n",
    "print('The result of adding {} and {} is {}.'.format(a,b,c))"
   ]
  },
  {
   "cell_type": "markdown",
   "metadata": {},
   "source": [
    "## 2. Variables and data structures\n",
    "\n",
    "Variables in Python are created once they are defined, that is, when a value is assigned to the variable for the first time (using the <code> = </code> operator). For this reason, variables (and their type) do not need to be declared in Python. \n",
    "\n",
    "The main types of variables that can be found are:\n",
    "* **Numeric**\n",
    "    * **Integer:** Positive and negative natural numbers.\n",
    "    * **Float:** Real numbers.\n",
    "    * **Complex:** Complex numbers. The imaginary part is multiplied by `j` to represent the root of `-1` Números complejos.\n",
    "* **Boolean**\n",
    "    These are variables that can take True or False as a value, represented in Python by `True` and `False` using uppercase for the initial letter.\n",
    "* **Data structures (data sequences)**.\n",
    "    Ordered list of values of the same or different type. In Python they exist:\n",
    "    * **String:** text strings\n",
    "    * **List:** ordered sets of elements\n",
    "    * **Tuple:** ordered and immutable sets of elements\n",
    "    * **Dictionary:** sets of elements characterized by an identifier and a value  "
   ]
  },
  {
   "cell_type": "markdown",
   "metadata": {},
   "source": [
    "There are some general rules for variable names:\n",
    "+ Only letters, numbers and \"underscores\" (_) are used.\n",
    "+ NO spaces are used anywhere in the name\n",
    "+ The name cannot start with a number\n",
    "+ Uppercase letters are treated as different from lowercase letters (i.e., Python is case-sensitive)"
   ]
  },
  {
   "cell_type": "code",
   "execution_count": null,
   "metadata": {},
   "outputs": [],
   "source": [
    "# The name can't start with a number\n",
    "3a = 10"
   ]
  },
  {
   "cell_type": "markdown",
   "metadata": {},
   "source": [
    "Whenever a variable is created or modified, Python interprets what type of variable it is. When a new value is assigned to an existing object (*dynamic typing*), the previous values of that object are cleared from the computer's memory. The first value of **a** is the real number 13.0, but after a new assignment:"
   ]
  },
  {
   "cell_type": "code",
   "execution_count": null,
   "metadata": {},
   "outputs": [],
   "source": [
    "# Dynamic typing\n",
    "a = 13.0\n",
    "a = 'b'\n",
    "print(a)"
   ]
  },
  {
   "cell_type": "markdown",
   "metadata": {},
   "source": [
    "The ``type()`` function displays the TYPE of the data we introduce:"
   ]
  },
  {
   "cell_type": "code",
   "execution_count": null,
   "metadata": {},
   "outputs": [],
   "source": [
    "# Which type of variable is b?\n",
    "\n",
    "a = 2.0\n",
    "print('Variable a:', type(a))\n",
    "\n",
    "b = ['integer','float','complex']\n",
    "print('Variable b:', type(b))"
   ]
  },
  {
   "cell_type": "code",
   "execution_count": null,
   "metadata": {},
   "outputs": [],
   "source": [
    "# Declare another type of variable and check it\n",
    "\n",
    "a = 2.1\n",
    "type(a)"
   ]
  },
  {
   "cell_type": "markdown",
   "metadata": {},
   "source": [
    "### 2.1 Types and basic operators\n",
    "\n",
    "The basic operators in Python are:\n",
    "\n",
    "+ Addition (also for strings, tuples or lists): <code>a + b</code>\n",
    "+ Subtraction: <code>a - b</code>\n",
    "+ Multiplication (also for strings, tuples and lists): <code>a * b</code>\n",
    "+ Division: <code>a / b</code>\n",
    "+ Integer division: <code>a // b</code>\n",
    "+ Remainder: <code>a % b</code>\n",
    "+ Exponential: <code>a ** b</code>\n",
    "+ Assignment: <code>=</code>, <code>-=</code>, <code>+=</code>,<code>/=</code>,<code>*=</code>, <code>%=</code>, <code>//=</code>, <code>**=</code>\n",
    "+ Boolean comparisons: <code>==</code>, <code>!=</code>, <code><</code>,<code>></code>,<code><=</code>, <code>>=</code>\n",
    "+ Boolean operations: <code>and</code>, <code>or</code>, <code>not</code>\n",
    "+ Operations to check belongingness: <code>in</code>, <code>not in</code>\n",
    "+ Operations to identify objects: <code>is</code>, <code>is not</code>\n",
    "<!-- + Bitwise operators (or, xor, and, complement): <code>|</code>, <code>^</code>, <code>&</code>, <code>~</code> -->\n",
    "<!-- + Left and right bit shift: <code><<</code>, <code>>></code> -->"
   ]
  },
  {
   "cell_type": "code",
   "execution_count": null,
   "metadata": {},
   "outputs": [],
   "source": [
    "# Assignment operators\n",
    "\n",
    "a=7; b=2\n",
    "\n",
    "print(\"Assignment operators\")\n",
    "x=a; x+=b;  print(\"x+=b -> x=\", x)\n",
    "x=a; x-=b;  print(\"x-=b -> x=\", x)\n",
    "x=a; x*=b;  print(\"x*=b -> x=\", x)\n",
    "x=a; x//=b; print(\"x//=b -> x=\", x)"
   ]
  },
  {
   "cell_type": "code",
   "execution_count": null,
   "metadata": {},
   "outputs": [],
   "source": [
    "# Boolean comparisons\n",
    "\n",
    "a>=b"
   ]
  },
  {
   "cell_type": "code",
   "execution_count": null,
   "metadata": {},
   "outputs": [],
   "source": [
    "# Boolean or logic operators\n",
    "\n",
    "print(a>b and b<a)\n",
    "\n",
    "print(a==7 and b==5)\n",
    "\n",
    "print(a==7 or b==5)"
   ]
  },
  {
   "cell_type": "code",
   "execution_count": null,
   "metadata": {},
   "outputs": [],
   "source": [
    "# Operators to check belongingness\n",
    "\n",
    "my_list = [1, 3, 2, 7, 9, 8, 6]\n",
    "print(4 in my_list)\n",
    "print(8 in my_list)"
   ]
  },
  {
   "cell_type": "code",
   "execution_count": null,
   "metadata": {},
   "outputs": [],
   "source": [
    "# Operators to identify objects\n",
    "\n",
    "a = 7\n",
    "b = 2  \n",
    "c = 7\n",
    "print(a is c)\n",
    "print (a is not b)\n",
    "print (a is not c)"
   ]
  },
  {
   "cell_type": "markdown",
   "metadata": {},
   "source": [
    "### Python as a calculator\n",
    "\n",
    "Python has a concise notation for arithmetic that closely resembles the traditional way of writing operations."
   ]
  },
  {
   "cell_type": "code",
   "execution_count": null,
   "metadata": {
    "scrolled": true
   },
   "outputs": [],
   "source": [
    "a = 3+2\n",
    "b= 3.5 * -8\n",
    "c = 10/6\n",
    "print(a, b, c, 10./6.)"
   ]
  },
  {
   "cell_type": "code",
   "execution_count": 1,
   "metadata": {},
   "outputs": [
    {
     "name": "stdout",
     "output_type": "stream",
     "text": [
      "25.3 <class 'int'> <class 'float'> <class 'float'>\n"
     ]
    }
   ],
   "source": [
    "# Exercice\n",
    "\n",
    "a = 12\n",
    "b = 13.3\n",
    "c = a + b\n",
    "print (c, type(a), type(b), type(c))"
   ]
  },
  {
   "cell_type": "markdown",
   "metadata": {},
   "source": [
    "### Modules\n",
    "\n",
    "Some more complex mathematical functions are not available in the basic Python module and must be imported from a specific module. To import libraries, just type \"import + the library name\".\n",
    "\n",
    "<img src=\"Figures/python_import.jfif\" alt=\"Drawing\" style=\"width: 250px;\"/>\n",
    "\n",
    "In each case you should read the documentation of the libraries used to know their features and how to implement them. For example, for math library:\n",
    "\n",
    "https://docs.python.org/3/library/math.html"
   ]
  },
  {
   "cell_type": "code",
   "execution_count": null,
   "metadata": {},
   "outputs": [],
   "source": [
    "import math   # only executed if the library hasn't been imported previously\n",
    "print(math.pi)\n",
    "print(math.sin(1.8))\n",
    "print(math.ceil(2.3))  # The math.ceil() method rounds a number UP to the nearest integer,"
   ]
  },
  {
   "cell_type": "markdown",
   "metadata": {},
   "source": [
    "### Boolean operators"
   ]
  },
  {
   "cell_type": "code",
   "execution_count": null,
   "metadata": {
    "scrolled": true
   },
   "outputs": [],
   "source": [
    "a = 4\n",
    "b = 40\n",
    "(a>2) and (b>30)"
   ]
  },
  {
   "cell_type": "code",
   "execution_count": null,
   "metadata": {
    "scrolled": true
   },
   "outputs": [],
   "source": [
    "(a>2) or (b>100)"
   ]
  },
  {
   "cell_type": "code",
   "execution_count": null,
   "metadata": {
    "scrolled": true
   },
   "outputs": [],
   "source": [
    "not(a>2)"
   ]
  },
  {
   "cell_type": "markdown",
   "metadata": {},
   "source": [
    "### 2.2 Data structures\n",
    "\n",
    "### Strings or text strings\n",
    "\n",
    "Text in Python is treated as a list of characters. Thus, the methodology that applies to the treatment of lists can be applied to text strings."
   ]
  },
  {
   "cell_type": "code",
   "execution_count": null,
   "metadata": {
    "scrolled": true
   },
   "outputs": [],
   "source": [
    "a = 'python'\n",
    "type(a)"
   ]
  },
  {
   "cell_type": "code",
   "execution_count": null,
   "metadata": {
    "scrolled": true
   },
   "outputs": [],
   "source": [
    "print(\"Hello\" )"
   ]
  },
  {
   "cell_type": "code",
   "execution_count": null,
   "metadata": {
    "scrolled": true
   },
   "outputs": [],
   "source": [
    "print(\"This is 'an example' of how to use quotation marks inside a text that is written between double quotation marks\")\n",
    "print('Here is \"another example\" but this time inverted')"
   ]
  },
  {
   "cell_type": "markdown",
   "metadata": {},
   "source": [
    "The '+' operator can be used to join character strings:"
   ]
  },
  {
   "cell_type": "code",
   "execution_count": null,
   "metadata": {
    "scrolled": true
   },
   "outputs": [],
   "source": [
    "a = 'He'\n",
    "b = 'llo'\n",
    "c = a+b+'!'\n",
    "print(c)"
   ]
  },
  {
   "cell_type": "markdown",
   "metadata": {},
   "source": [
    "To access only a part of a list or, in this case, of a *string*, the technique called **slicing** is used. The format to follow to access only a part of the string is as follows:\n",
    "\n",
    "### <center>variable_name[first_element_index:final_index:step]</center>\n",
    "\n",
    "Where the operation of the indexes can be seen in the following picture:\n",
    "\n",
    "![Slicing1](Figures/slicing1.png)\n"
   ]
  },
  {
   "cell_type": "code",
   "execution_count": null,
   "metadata": {
    "scrolled": true
   },
   "outputs": [],
   "source": [
    "#Example\n",
    "a = 'Python'\n",
    "print(a[:], a[0], a[2:], a[:3], a[2:4], a[::2], a[1::2])"
   ]
  },
  {
   "cell_type": "markdown",
   "metadata": {},
   "source": [
    "<div style=\"background-color:#ccffcc; padding:10px; border-radius:5px;\">\n",
    "\n",
    "### <span style=\"color:blue\">Exercise 1</span>\n",
    "\n",
    "With one line of code, get the following character sets:\n",
    "- First letter.\n",
    "- From letter 2 to 4\n",
    "- Last 3 letters\n",
    "- Only the letters in even position, from the number 4 to the end.\n",
    "- All the text upside down\n",
    "    \n",
    "</div>"
   ]
  },
  {
   "cell_type": "code",
   "execution_count": 1,
   "metadata": {},
   "outputs": [],
   "source": [
    "text = \"Hello, I just learned how to do string slicing.\"\n",
    "\n",
    "##########################################################\n",
    "### write your code here\n",
    "\n",
    "\n",
    "\n",
    "\n",
    "\n",
    "\n",
    "\n"
   ]
  },
  {
   "cell_type": "markdown",
   "metadata": {},
   "source": [
    "In the case of *strings*, there are default methods in Python that can be useful. For example the following functions:\n",
    "- len: returns the length of the text.\n",
    "- str: converts a number into a string.\n",
    "- reverse: returns the text backwards.\n",
    "\n",
    "To use a function, put function_name(variable_name).\n",
    "\n",
    "We can also use string-specific methods:\n",
    "- lower: converts all text to lowercase.\n",
    "- upper: converts all text to uppercase.\n",
    "- capitalize: capitalizes the first letter of the string.\n",
    "- split(delimiter): returns a list of substrings separated by the specified delimiter (see examples below).\n",
    "\n",
    "To use a method, set variable_name.method_name."
   ]
  },
  {
   "cell_type": "code",
   "execution_count": null,
   "metadata": {
    "scrolled": true
   },
   "outputs": [],
   "source": [
    "text='We are going to test the Strings functions and methods!'\n",
    "print(len(text))\n",
    "print(text.lower())\n",
    "print(text.split(' '))\n"
   ]
  },
  {
   "cell_type": "markdown",
   "metadata": {},
   "source": [
    "<div style=\"background-color:#ccffcc; padding:10px; border-radius:5px;\">\n",
    "\n",
    "### <span style=\"color:blue\">Exercise 2</span>\n",
    "\n",
    "Return the 3rd word of the text in all capital letters\n",
    "    \n",
    "</div>"
   ]
  },
  {
   "cell_type": "code",
   "execution_count": null,
   "metadata": {},
   "outputs": [],
   "source": [
    "### write your code here\n",
    "\n",
    "\n",
    "\n",
    "\n"
   ]
  },
  {
   "cell_type": "markdown",
   "metadata": {},
   "source": [
    "### Lists\n",
    "\n",
    "Lists are a Python type used to group objects of other types (even lists!). For example a list of numbers, of floats, of strings, of other lists, and so on. \n",
    "\n",
    "Lists, like strings, can use the *slicing* methodology.\n"
   ]
  },
  {
   "cell_type": "code",
   "execution_count": null,
   "metadata": {
    "scrolled": true
   },
   "outputs": [],
   "source": [
    "l=[]\n",
    "type(l)"
   ]
  },
  {
   "cell_type": "code",
   "execution_count": null,
   "metadata": {},
   "outputs": [],
   "source": [
    "# Create list\n",
    "my_list = [0,5,'6',34,'Hello']\n",
    "my_list"
   ]
  },
  {
   "cell_type": "code",
   "execution_count": null,
   "metadata": {},
   "outputs": [],
   "source": [
    "# Access to an element of a list\n",
    "a = my_list[2]\n",
    "a"
   ]
  },
  {
   "cell_type": "code",
   "execution_count": null,
   "metadata": {},
   "outputs": [],
   "source": [
    "# Change an element of a list\n",
    "my_list[-1]='Bye'\n",
    "my_list"
   ]
  },
  {
   "cell_type": "code",
   "execution_count": null,
   "metadata": {},
   "outputs": [],
   "source": [
    "# We can have lists of lists\n",
    "my_list=[45,[3,5,6],'word',34.6,['a','b','c']]\n",
    "print(my_list)\n",
    "print(my_list[1])\n",
    "print(my_list[1][2])\n",
    "\n",
    "#####################################################"
   ]
  },
  {
   "cell_type": "markdown",
   "metadata": {},
   "source": [
    "<div style=\"background-color:#ccffcc; padding:10px; border-radius:5px;\">\n",
    "\n",
    "### <span style=\"color:blue\">Exercise 3</span>\n",
    "\n",
    "Access to the letter 'c'\n",
    "    \n",
    "</div>"
   ]
  },
  {
   "cell_type": "code",
   "execution_count": null,
   "metadata": {},
   "outputs": [],
   "source": [
    "### write your code here\n",
    "\n",
    "\n",
    "\n",
    "\n",
    "\n"
   ]
  },
  {
   "cell_type": "markdown",
   "metadata": {},
   "source": [
    "For lists there are also default Python functions and methods that can be useful. For example the following functions:\n",
    "- len: returns the length of the list.\n",
    "- list: create list\n",
    "\n",
    "To use a function, call function_name(variable_name).\n",
    "\n",
    "We can also use list-specific methods:\n",
    "- append: add element to the end of the list.\n",
    "- insert: add an element in a particular position.\n",
    "- pop: remove the last element of the list.\n",
    "- remove: remove a particular element.\n",
    "- sort: sort the list\n",
    "\n",
    "To use a method, call variable_name.method_name."
   ]
  },
  {
   "cell_type": "code",
   "execution_count": null,
   "metadata": {
    "scrolled": true
   },
   "outputs": [],
   "source": [
    "my_list=['first','hello','test','bye','animals','master']\n",
    "# print(my_list)\n",
    "# my_list.append('last')\n",
    "# print(my_list)\n",
    "# my_list.insert(1,'second')\n",
    "# print(my_list)\n",
    "# my_list.pop()\n",
    "# print(my_list)\n",
    "# my_list.remove('test')\n",
    "# print(my_list)\n",
    "# my_list.sort()\n",
    "# print(my_list)"
   ]
  },
  {
   "cell_type": "markdown",
   "metadata": {},
   "source": [
    "### Dictionaries\n",
    "\n",
    "A dictionary is another way of grouping data where an element can be accessed through its *key*. For example:"
   ]
  },
  {
   "cell_type": "code",
   "execution_count": null,
   "metadata": {},
   "outputs": [],
   "source": [
    "this_installation = {\n",
    "    'Power': 10,\n",
    "    'Type': 'Solar',\n",
    "    'Construction_year':2012\n",
    "}"
   ]
  },
  {
   "cell_type": "code",
   "execution_count": null,
   "metadata": {},
   "outputs": [],
   "source": [
    "this_installation['Type']"
   ]
  },
  {
   "cell_type": "markdown",
   "metadata": {},
   "source": [
    "Another example could be:"
   ]
  },
  {
   "cell_type": "code",
   "execution_count": null,
   "metadata": {
    "scrolled": true
   },
   "outputs": [],
   "source": [
    "dict = {\"Installation_1\": \"Solar\", \"Installation_2\": \"Wind\", \"Installation_3\": \"Wind\", \"Installation_4\": \"Hidraulyc\",\n",
    "        \"Installation_5\": \"Solar\",}\n",
    "print(dict)"
   ]
  },
  {
   "cell_type": "markdown",
   "metadata": {},
   "source": [
    "To access, modify or add an item, it can be done in a similar way to the lists:"
   ]
  },
  {
   "cell_type": "code",
   "execution_count": null,
   "metadata": {
    "scrolled": true
   },
   "outputs": [],
   "source": [
    "# Access\n",
    "dict[\"Installation_1\"]"
   ]
  },
  {
   "cell_type": "code",
   "execution_count": null,
   "metadata": {},
   "outputs": [],
   "source": [
    "# Modify\n",
    "print(dict)\n",
    "dict[\"Installation_1\"]=\"Wind\"\n",
    "print(dict)"
   ]
  },
  {
   "cell_type": "code",
   "execution_count": null,
   "metadata": {},
   "outputs": [],
   "source": [
    "# Add\n",
    "print(dict)\n",
    "dict[\"Installation_6\"]=\"Solar\"\n",
    "print(dict)"
   ]
  },
  {
   "cell_type": "markdown",
   "metadata": {
    "scrolled": true
   },
   "source": [
    "Dictionaries can contain all types (int, floats, lists, other dictionaries, etc.)."
   ]
  },
  {
   "cell_type": "code",
   "execution_count": null,
   "metadata": {},
   "outputs": [],
   "source": [
    "dict = {\"Installation_1\": [\"Solar\", '10 MW'], \"Installation_2\": [\"Wind\", '15 MW'], \"Installation_3\": [\"Solar\", '18 MW'],\n",
    "        \"Installation_4\": [\"Hydraulic\", '12 MW'], \"Installation_5\": [\"Solar\", '23 MW'], \"Installation_6\": [\"Wind\", '8 MW'],\n",
    "        \"Installation_7\": [\"Solar\", '11 MW'], \"Installation_8\": [\"Hydraulic\", '11 MW']}\n",
    "dict"
   ]
  },
  {
   "cell_type": "code",
   "execution_count": null,
   "metadata": {},
   "outputs": [],
   "source": [
    "dict['Installation_3'][1]"
   ]
  },
  {
   "cell_type": "markdown",
   "metadata": {},
   "source": [
    "<div style=\"background-color:#ccffcc; padding:10px; border-radius:5px;\">\n",
    "\n",
    "### <span style=\"color:blue\">Exercise 4</span>\n",
    "\n",
    "Change power of installation 4 to 15 MW modifying the dictionary!\n",
    "    \n",
    "</div>"
   ]
  },
  {
   "cell_type": "code",
   "execution_count": null,
   "metadata": {},
   "outputs": [],
   "source": [
    "### write your code here\n",
    "\n",
    "\n",
    "\n",
    "\n"
   ]
  },
  {
   "cell_type": "code",
   "execution_count": null,
   "metadata": {},
   "outputs": [],
   "source": [
    "# Examples of dict keys with numbers\n",
    "\n",
    "dict = {\n",
    "    0: 15,\n",
    "    1: 16,\n",
    "    2: 55\n",
    "}\n",
    "\n",
    "print(dict)\n",
    "print(dict[2])\n",
    "\n",
    "dict2 = {\n",
    "    \n",
    "    (0,0): 1,\n",
    "    (0,1): 2,\n",
    "    (0,1): 3\n",
    "}\n",
    "\n",
    "print(dict2)\n",
    "print(dict2[0,0])"
   ]
  },
  {
   "cell_type": "markdown",
   "metadata": {},
   "source": [
    "### Tuples\n",
    "\n",
    "Tuples are lists **that cannot be modified.**\n",
    "\n",
    "Their syntax is the same as lists, but to write a tuple you use parentheses and not square brackets."
   ]
  },
  {
   "cell_type": "code",
   "execution_count": null,
   "metadata": {
    "scrolled": true
   },
   "outputs": [],
   "source": [
    "mysupertuple = ('Solar', 'Wind', 'Hydraulic', 'Gas', 'Nuclear', 'Hydrogen')\n",
    "print(type(mysupertuple), mysupertuple[4:])"
   ]
  },
  {
   "cell_type": "code",
   "execution_count": null,
   "metadata": {
    "scrolled": true
   },
   "outputs": [],
   "source": [
    "mysupertuple[0]='Coal'\n",
    "#CANNOT BE MODIFIED!"
   ]
  },
  {
   "cell_type": "markdown",
   "metadata": {},
   "source": [
    "## 3. Conditional structures (if)\n",
    "\n",
    "Conditional control structures allow you to execute one part of the code or another depending on the evaluation of one or several boolean conditions of YES or NO (**<code>TRUE</code>** o **<code>FALSE</code>**).\n",
    "\n",
    "In Python, conditional control structures are defined by the words **<code>if</code>**, **<code>elif</code>** y **<code>else</code>**.\n",
    "\n",
    "- **<code>if CONDICION:</code>** if the conditional expression is met, the following code block is executed.\n",
    "- **<code>elif CONDICION:</code>** otherwise, if this conditional expression is met, this other code block is executed.\n",
    "- **<code>else:</code>** otherwise, this code block is executed without evaluating any condition.\n",
    "\n",
    "\n",
    "The condition is usually evaluated by the following relational operators <code> <, <=, ==, >=, >, != </code>.\n",
    "\n",
    "The part of code inside an **<code>if</code>** cannot be empty, but if for some reason an if statement must be created without content, the **<code>pass</code>** statement can be used to prevent an error from occurring."
   ]
  },
  {
   "cell_type": "code",
   "execution_count": null,
   "metadata": {
    "scrolled": true
   },
   "outputs": [],
   "source": [
    "# Example\n",
    "\n",
    "celsius = 35\n",
    "fahrenheit = 9.0 /5.0 * celsius + 32\n",
    "\n",
    "print(\"Temperature in Fahrenheit is\", fahrenheit)\n",
    "\n",
    "if fahrenheit > 90:\n",
    "    print(\"It is hot\")\n",
    "elif fahrenheit < 30:\n",
    "    print(\"It is cold\")\n",
    "else: print(\"It is neither hot nor cold\")"
   ]
  },
  {
   "cell_type": "markdown",
   "metadata": {
    "scrolled": true
   },
   "source": [
    "<div style=\"background-color:#ccffcc; padding:10px; border-radius:5px;\">\n",
    "\n",
    "### <span style=\"color:blue\">Exercise 5</span>\n",
    "\n",
    "Create a code to identify whether the variable **<code>number</code>** is a positive, negative, or 0 value. Store the result in a variable called **<code>sign</code>**.\n",
    "    \n",
    "</div>"
   ]
  },
  {
   "cell_type": "code",
   "execution_count": null,
   "metadata": {},
   "outputs": [],
   "source": [
    "number = 2\n",
    "\n",
    "### write your code here\n",
    "\n",
    "\n",
    "\n",
    "\n",
    "\n",
    "\n",
    "\n",
    "\n"
   ]
  },
  {
   "cell_type": "markdown",
   "metadata": {},
   "source": [
    "The conditional structure can also be expressed in a single line as follows, depending on whether one, two or more conditions are involved:"
   ]
  },
  {
   "cell_type": "code",
   "execution_count": null,
   "metadata": {},
   "outputs": [],
   "source": [
    "#Example\n",
    "\n",
    "a = 330\n",
    "b = 330\n",
    "\n",
    "# with one only condition:\n",
    "if a > b: print(\"a is larger than b\")\n",
    "    \n",
    "# with two conditions:\n",
    "print(\"a is larger\") if a > b else print(\"a is not larger\")\n",
    "\n",
    "# with 3 conditions:\n",
    "print(\"A\") if a > b else print(\"=\") if a == b else print(\"B\")"
   ]
  },
  {
   "cell_type": "markdown",
   "metadata": {},
   "source": [
    "<div style=\"background-color:#ccffcc; padding:10px; border-radius:5px;\">\n",
    "\n",
    "### <span style=\"color:blue\">Exercise 6</span>\n",
    "\n",
    "Put in a single line the code to determine the sign of a number.\n",
    "    \n",
    "</div>"
   ]
  },
  {
   "cell_type": "code",
   "execution_count": null,
   "metadata": {},
   "outputs": [],
   "source": [
    "number = 2\n",
    "\n",
    "\n",
    "### write your code here\n",
    "\n",
    "\n",
    "\n"
   ]
  },
  {
   "cell_type": "markdown",
   "metadata": {},
   "source": [
    "## 4. Lists and loops"
   ]
  },
  {
   "cell_type": "markdown",
   "metadata": {},
   "source": [
    "### 4.1 Iterative control structures (for & while)\n",
    "\n",
    "Iterative control structures (also called loops) allow the same code to be executed repeatedly as long as a condition is met.\n",
    "\n",
    "There are two types of iterative control structures:\n",
    "\n",
    "* For\n",
    "* While\n",
    "\n",
    "The Python ``for`` statement iterates over the elements of any sequence (a list or a string for example), in the order they appear in the sequence.\n",
    "\n",
    "The ``while`` loop allows multiple iterations to be performed based on the result of a logical expression that can result in a ``True`` or ``False`` value."
   ]
  },
  {
   "cell_type": "code",
   "execution_count": null,
   "metadata": {
    "scrolled": true
   },
   "outputs": [],
   "source": [
    "# Example of for\n",
    "\n",
    "for i in range(0,10,1):\n",
    "    print(i)"
   ]
  },
  {
   "cell_type": "code",
   "execution_count": null,
   "metadata": {
    "scrolled": true
   },
   "outputs": [],
   "source": [
    "# Example of while\n",
    "\n",
    "i=0\n",
    "while i < 10 :\n",
    "    print(i)\n",
    "    i= i+1"
   ]
  },
  {
   "cell_type": "markdown",
   "metadata": {},
   "source": [
    "In addition, loops with ``for`` or ``while`` can be combined with conditional ``if`` structures to create more complex structures.\n",
    "\n",
    "With the ``break`` statement we can stop the loop before it has gone through all elements.\n",
    "\n",
    "With the ``continue`` statement we can stop the current iteration of the loop (in both ``for`` and ``while``) and continue with the next one."
   ]
  },
  {
   "cell_type": "code",
   "execution_count": null,
   "metadata": {
    "scrolled": true
   },
   "outputs": [],
   "source": [
    "# Example\n",
    "\n",
    "numbers = [-5, 3, 2, -1, 9, 6]\n",
    "sum_positive_1 = 0\n",
    "\n",
    "for n in numbers:\n",
    "    if n >= 0:\n",
    "        sum_positive_1 += n\n",
    "\n",
    "sum_positive_2 = 0\n",
    "for n in numbers:\n",
    "    if n < 0:\n",
    "        continue\n",
    "    sum_positive_2 += n\n",
    "\n",
    "print(sum_positive_1, sum_positive_2)"
   ]
  },
  {
   "cell_type": "markdown",
   "metadata": {},
   "source": [
    "<div style=\"background-color:#ccffcc; padding:10px; border-radius:5px;\">\n",
    "    \n",
    "### <span style=\"color:blue\">Exercise 7</span>\n",
    "Calculating the average value of a list with a `for`\n",
    "</div>"
   ]
  },
  {
   "cell_type": "code",
   "execution_count": null,
   "metadata": {
    "scrolled": true
   },
   "outputs": [],
   "source": [
    "numbers=[1,2,3,4]\n",
    "\n",
    "\n",
    "### write your code here\n",
    "\n",
    "\n",
    "\n",
    "\n"
   ]
  },
  {
   "cell_type": "markdown",
   "metadata": {},
   "source": [
    "\n",
    "<div style=\"background-color:#ccffcc; padding:10px; border-radius:5px;\">\n",
    "Redo the above code to calculate the average value with a `while` instead of a `for`\n",
    "</div>"
   ]
  },
  {
   "cell_type": "code",
   "execution_count": null,
   "metadata": {
    "scrolled": true
   },
   "outputs": [],
   "source": [
    "numbers=[1,2,3,4]\n",
    "\n",
    "### write your code here\n",
    "\n",
    "\n",
    "\n",
    "\n"
   ]
  },
  {
   "cell_type": "markdown",
   "metadata": {},
   "source": [
    "### 4.2 Lists (o dictionary) comprehensions\n",
    "\n",
    "List comprehensions are a way of fitting a ``for`` loop, an ``if`` statement, and an assignment all on a single line.\n",
    "\n",
    "A list comprehension consists of the following parts:\n",
    "\n",
    "+ An input sequence\n",
    "+ A variable representing members of the input sequence\n",
    "+ An optional expression\n",
    "+ An output expression that produces elements of the output list from members of the input sequence that satisfy the predicate"
   ]
  },
  {
   "cell_type": "code",
   "execution_count": null,
   "metadata": {
    "scrolled": true
   },
   "outputs": [],
   "source": [
    "# Example\n",
    "num = [1, 4, -5, 10, -7, 2, 3, -1]\n",
    "squared = []\n",
    "for i in num:\n",
    "     if i > 0:\n",
    "        squared.append(i**2)\n",
    "print(type(squared), squared)\n",
    "\n",
    "# This for can be rewritten as follows:\n",
    "# In an iteration, it first checks if the if is TRUE and then performs the calculation\n",
    "squared = [x**2 for x in num if x > 0] \n",
    "print(type(squared), squared)"
   ]
  },
  {
   "cell_type": "markdown",
   "metadata": {},
   "source": [
    "\n",
    "<div style=\"background-color:#ccffcc; padding:10px; border-radius:5px;\">\n",
    "\n",
    "### <span style=\"color:blue\">Exercise 8</span>\n",
    "Calculating the multiplicative inverse (1/x) of all the elements of a list with a single line for\n",
    "\n",
    "</div>\n"
   ]
  },
  {
   "cell_type": "code",
   "execution_count": 3,
   "metadata": {},
   "outputs": [],
   "source": [
    "num =[1,2,3,4]\n",
    "\n",
    "\n",
    "### write your code here\n",
    "\n",
    "\n",
    "\n",
    "\n",
    "\n",
    "\n",
    "\n"
   ]
  },
  {
   "cell_type": "markdown",
   "metadata": {},
   "source": [
    "This compact way of expressing loops can also be used to iterate within lists. Below are different ways to join the values of two lists using zip or nested fors."
   ]
  },
  {
   "cell_type": "code",
   "execution_count": null,
   "metadata": {
    "scrolled": true
   },
   "outputs": [],
   "source": [
    "list1 = ['a','b','c','d']\n",
    "list2 = [1,2,3,4]\n",
    "\n",
    "# Create a list with nested fors:\n",
    "print ([(i,j) for i in list1 for j in list2])\n",
    "\n",
    "# Create a list using zip:\n",
    "print ([(i,j) for i,j in zip(list1,list2)])\n",
    "\n",
    "# Cereate a dictionary using zip:\n",
    "print ( {i:j for i,j in zip(list1,list2)} )"
   ]
  },
  {
   "cell_type": "markdown",
   "metadata": {},
   "source": [
    "## 5. Dictionaries and frequency tables\n",
    "Dictionaries are very useful to count items in a list, and to create a distribution of these items by means of a frequency table. Here is an example where you want to know which number from 1 to 9 appears most often in an unordered list of numbers."
   ]
  },
  {
   "cell_type": "code",
   "execution_count": null,
   "metadata": {},
   "outputs": [],
   "source": [
    "my_list = [2,3,5,2,5,6,7,8,1,2,3,4,5,2,8,9,5,2,4,6,9,1,2,1,3,6,7,4,3,1,2,9,7,5,4,3,1,2,9,5,4,2,7,9,5,3,4,6,7,3,3,4,5]"
   ]
  },
  {
   "cell_type": "code",
   "execution_count": null,
   "metadata": {
    "scrolled": true
   },
   "outputs": [],
   "source": [
    "# Create an empty dictionary\n",
    "freq = {}\n",
    "for number in my_list: \n",
    "    if (number in freq): \n",
    "        freq[number] += 1\n",
    "    else: \n",
    "        freq[number] = 1\n",
    "\n",
    "for key, value in freq.items(): \n",
    "    print (\"% d : % d\"%(key, value))"
   ]
  },
  {
   "cell_type": "markdown",
   "metadata": {},
   "source": [
    "From a list of installations, we obtain these typologies of generation plants. Which technology has more plants installed?\n",
    "\n",
    "Do you detect any problem with the names? How would you solve it?"
   ]
  },
  {
   "cell_type": "code",
   "execution_count": null,
   "metadata": {
    "scrolled": true
   },
   "outputs": [],
   "source": [
    "installations = ['Wind', 'Solar', 'Hydraulic', 'Solar', 'wind', 'Hydraulic', 'Natural Gas', 'solar', 'Wind',\n",
    "                 'Solar', 'Nuclear', 'Solar', 'Hydraulic', 'Hydraulic', 'Solar', 'Coal', 'Wind', 'Wind', 'solar', \n",
    "                 'solar', 'solar', 'Hydraulic', 'Natural Gas', 'Hydraulic', 'Nuclear', 'wind', 'Wind', 'Solar', 'Wind', \n",
    "                 'Natural Gas', 'Hydraulic', 'Hydraulic', 'Solar', 'Wind', 'Hydraulic', 'Solar', 'Wind', 'Solar','Wind', \n",
    "                 'Wind', 'Solar', 'Solar', 'Hydraulic', 'Natural Gas', 'solar', 'Natural Gas', 'Nuclear', 'Wind', 'Hydraulic', \n",
    "                 'Hydraulic', 'solar']\n",
    "installations"
   ]
  },
  {
   "cell_type": "code",
   "execution_count": null,
   "metadata": {},
   "outputs": [],
   "source": [
    "# Which technology has the most plants installed?    \n",
    "    \n",
    "dictionary = {}\n",
    "count= 0 \n",
    "\n",
    "for item in installations:\n",
    "    dictionary[item] = dictionary.get(item, 0) + 1\n",
    "    if dictionary[item] >= count :\n",
    "        count = dictionary[item]\n",
    "        most_freq = item\n",
    "        \n",
    "print(dictionary)\n",
    "\n",
    "print('Most frequent technology: ', most_freq)  # Most frequent value"
   ]
  },
  {
   "cell_type": "code",
   "execution_count": null,
   "metadata": {},
   "outputs": [],
   "source": [
    "# statistics library already has a function to obtain the mode of a list\n",
    "from statistics import mode\n",
    "\n",
    "print(mode(installations))"
   ]
  },
  {
   "cell_type": "markdown",
   "metadata": {},
   "source": [
    "**Something is wrong**, 'Solar' and 'Wind' are written differently and they aren't accounted under the same key. Let's solve this."
   ]
  },
  {
   "cell_type": "markdown",
   "metadata": {},
   "source": [
    "\n",
    "<div style=\"background-color:#ccffcc; padding:10px; border-radius:5px;\">\n",
    "\n",
    "### <span style=\"color:blue\">Exercise 9</span>\n",
    "Try iterate through every element in the list and apply the function .capitalize()\n",
    "</div>"
   ]
  },
  {
   "cell_type": "code",
   "execution_count": null,
   "metadata": {},
   "outputs": [],
   "source": [
    "### write your code here\n",
    "\n",
    "\n",
    "\n",
    "\n",
    "\n",
    "\n"
   ]
  },
  {
   "cell_type": "code",
   "execution_count": null,
   "metadata": {},
   "outputs": [],
   "source": [
    "# statistics library already has a function to obtain the mode of a list\n",
    "from statistics import mode\n",
    "\n",
    "print(mode(installations))"
   ]
  },
  {
   "cell_type": "markdown",
   "metadata": {},
   "source": [
    "## 6. Functions\n",
    "A function is a block of code with an associated name, which receives zero or more arguments as input, follows a sequence of statements where the desired operations are executed and returns a value and/or performs a task. This code block can be called multiple times as needed.\n",
    "\n",
    "In Python there are a number of functions built into the language by default, but you can also create user-defined functions to use in your own programs. \n",
    "\n",
    "The complete list of default built-in functions can be found at:\n",
    "www.w3schools.com/python/python_ref_functions.asp"
   ]
  },
  {
   "cell_type": "code",
   "execution_count": null,
   "metadata": {},
   "outputs": [],
   "source": [
    "# Example of an integrated function in Python\n",
    "\n",
    "# The input() function allows us to assign a value entered by the user to a variable\n",
    "\n",
    "a = input()\n",
    "\n",
    "print('The variable introduced has been ' + a)"
   ]
  },
  {
   "cell_type": "markdown",
   "metadata": {},
   "source": [
    "To create a function in Python, you must use the word ``def`` to define the function. The syntax for a function definition in Python is:\n",
    "\n",
    "<code>*def* function_name(input_parameter_list):\n",
    "    function_statements\n",
    "    *return* [expression_to_return]</code>\n",
    "\n",
    "Where:\n",
    "* function_name: is the name of the function.\n",
    "* input_parameter_list: is the list of parameters that a function can receive, separated by comma.\n",
    "* function_statements: is the block of statements in Python source code that perform a given operation.\n",
    "* expression_to_return: is the expression or variable that returns the return statement."
   ]
  },
  {
   "cell_type": "code",
   "execution_count": null,
   "metadata": {
    "scrolled": true
   },
   "outputs": [],
   "source": [
    "# Example: function to set the first value of a list to 0\n",
    "\n",
    "def change_first_element(list):\n",
    "    list[0]=0 #it returns none!\n",
    "\n",
    "numbers=[1,2,3,4]\n",
    "change_first_element(numbers)\n",
    "print(numbers)"
   ]
  },
  {
   "cell_type": "markdown",
   "metadata": {},
   "source": [
    "#### Example: greatest common denominator (GCD)\n",
    "\n",
    "The common denominator of two positive integers $a$ and $b$ is the greatest common divisor between $a$ and $b$ . \n",
    "\n",
    "<img src=\"Figures/GCD_1.png\" alt=\"Drawing\" style=\"width: 450px;\"/>\n",
    "\n",
    "The Euclidean algorithm is an iterative method for computing the greatest common denominator of two integers. In pseudocode it would be:\n",
    "\n",
    "+ If $a<b$, change $a$ and $b$.\n",
    "+ Divide $a$ by $b$ and obtain the residue, $r$. \n",
    "+ If $r=0$, the value $b$ is GCD of $a$ and $b$.\n",
    "+ If $r \\neq 0$, iterate again replacing $a$ by $b$ and replacing $b$ by $r$.\n",
    "\n",
    "<img src=\"Figures/GCD_2.png\" alt=\"Drawing\" style=\"width: 450px;\"/>"
   ]
  },
  {
   "cell_type": "code",
   "execution_count": null,
   "metadata": {
    "scrolled": true
   },
   "outputs": [],
   "source": [
    "def GCD(a,b):\n",
    "    r = 1\n",
    "    while r != 0:\n",
    "        if a<b:\n",
    "            c=a\n",
    "            a=b\n",
    "            b=c\n",
    "        r = a%b \n",
    "        if r == 0:\n",
    "            return b\n",
    "        else:\n",
    "            a = b\n",
    "            b = r\n",
    "\n",
    "GCD(36,60)"
   ]
  },
  {
   "cell_type": "markdown",
   "metadata": {},
   "source": [
    "\n",
    "<div style=\"background-color:#ccffcc; padding:10px; border-radius:5px;\">\n",
    "\n",
    "### <span style=\"color:blue\">Exercise 10</span>\n",
    "    \n",
    "Create a function to calculate the factorial of an integer.\n",
    "\n",
    "The factorial of a non-negative integer $n$ is the product of all positive integers less than or equal to $n$.\n",
    "    \n",
    "</div>"
   ]
  },
  {
   "cell_type": "code",
   "execution_count": 4,
   "metadata": {},
   "outputs": [],
   "source": [
    "### write your code here\n",
    "\n",
    "\n",
    "\n",
    "\n",
    "\n",
    "\n"
   ]
  },
  {
   "cell_type": "markdown",
   "metadata": {},
   "source": [
    "### 6.1 Arguments and parameters of functions\n",
    "\n",
    "When defining a function, the values that are received are called parameters, while during the call, the values that are sent are called arguments.\n",
    "\n",
    "By default, a function must be called with the correct number of arguments. If the function expects 2 arguments, you must call the function with 2 arguments.\n",
    "\n",
    "#### Arguments per position\n",
    "\n",
    "When arguments are sent to a function, by default they are received in order in the defined parameters, known as arguments by position. In the example above (GCD), argument 36 is position 0, which corresponds to the parameter of function a, while argument 60 is position 1, which corresponds to the parameter of function b.\n",
    "\n",
    "#### Arguments by name\n",
    "\n",
    "However, it is possible to skip the order of the parameters if you indicate during the call what value each parameter has from its name."
   ]
  },
  {
   "cell_type": "code",
   "execution_count": null,
   "metadata": {},
   "outputs": [],
   "source": [
    "GCD(b=36,a=60)"
   ]
  },
  {
   "cell_type": "markdown",
   "metadata": {},
   "source": [
    "#### Default parameters\n",
    "\n",
    "To avoid error messages when a function is not called with the required arguments, you can define default parameters within a function."
   ]
  },
  {
   "cell_type": "code",
   "execution_count": null,
   "metadata": {},
   "outputs": [],
   "source": [
    "def GCD(a=None,b=None):\n",
    "    if a == None or b == None:\n",
    "        print (\"Error, you must send two numbers to the function.\")\n",
    "        return\n",
    "    r = 1\n",
    "    while r != 0:\n",
    "        if a<b:\n",
    "            c=a\n",
    "            a=b\n",
    "            b=c\n",
    "        r = a%b \n",
    "        if r == 0:\n",
    "            return b\n",
    "        else:\n",
    "            a = b\n",
    "            b = r\n",
    "\n",
    "GCD()"
   ]
  },
  {
   "cell_type": "markdown",
   "metadata": {},
   "source": [
    "#### Indeterminate parameters ``*args`` y ``**kwargs`` (optional)\n",
    "\n",
    "Sometimes it is not known in advance how many items need to be sent to a function.\n",
    "\n",
    "If you do not know how many arguments per item will be passed to a function, you add a * before the parameter name in the function definition. By convention, the parameter name ``*args`` is usually used. In this way, the function will receive a tuple of arguments and can access the items accordingly.\n",
    "\n",
    "Similarly, if it is not known how many arguments by name will be passed to a function, two ** are added before the parameter name in the function definition. By convention, the parameter name ``**kwargs`` is usually used. In this way, the function will receive a dictionary of arguments and can access the elements accordingly."
   ]
  },
  {
   "cell_type": "code",
   "execution_count": null,
   "metadata": {},
   "outputs": [],
   "source": [
    "def super_function(*args,**kwargs):\n",
    "    total = 0\n",
    "    for arg in args:\n",
    "        total += arg\n",
    "    print (\"sum => \", total)\n",
    "    for kwarg in kwargs:\n",
    "        print (kwarg, \"=>\", kwargs[kwarg])\n",
    "\n",
    "super_function(50, -1, 1.56, 10, 20, 300, name=\"Peter\", age=38)"
   ]
  },
  {
   "cell_type": "markdown",
   "metadata": {},
   "source": [
    "## 7. Advanced functions\n",
    "\n",
    "In this section you will see how in some occasions, there are simple functions that we only want to use once. This use does not seem very appropriate for the functions that we have talked about so far... We are going to see first examples where this type of functions can be useful to us. These are the functions <code>map, filter and reduce</code>.\n",
    "    \n",
    "### 7.1 Map\n",
    "\n",
    "With a \"map\" we can apply a function to a whole list of inputs. For example if we want to take a list of numbers and apply the square to all its elements we could do:"
   ]
  },
  {
   "cell_type": "code",
   "execution_count": null,
   "metadata": {},
   "outputs": [],
   "source": [
    "items = [1, 2, 3, 4, 5]\n",
    "squared = []\n",
    "for i in items:\n",
    "    squared.append(i**2)\n",
    "print(items)\n",
    "print(squared)"
   ]
  },
  {
   "cell_type": "markdown",
   "metadata": {},
   "source": [
    "Using ``Map``:"
   ]
  },
  {
   "cell_type": "code",
   "execution_count": null,
   "metadata": {},
   "outputs": [],
   "source": [
    "def square_item (x):\n",
    "    return x**2\n",
    "squared = list(map(square_item, items))\n",
    "print(items)\n",
    "print(squared)"
   ]
  },
  {
   "cell_type": "markdown",
   "metadata": {},
   "source": [
    "As you can see ``map`` is a function that accepts a function as an argument:\n",
    "\n",
    "``map(function to apply, input list)``"
   ]
  },
  {
   "cell_type": "markdown",
   "metadata": {},
   "source": [
    "### 7.2 Filter\n",
    "\n",
    "The ``Filter`` function, in a similar way, returns a list with those elements of an input list that meet a certain code (filters the input list with a certain condition). Let's see as an example, if we want to remove the negative elements of a list and stay only with the positive ones and that they are pairs"
   ]
  },
  {
   "cell_type": "code",
   "execution_count": null,
   "metadata": {},
   "outputs": [],
   "source": [
    "items=[2,5,-6,4,-1,2,7,-8,3,4,7,0,-1,-4,0,4,6,-8,0,1]\n",
    "positives=[]\n",
    "for item in items:\n",
    "    if item>=0:\n",
    "        if item % 2 == 0:\n",
    "            positives.append(item) \n",
    "print(items)\n",
    "print(positives)"
   ]
  },
  {
   "cell_type": "code",
   "execution_count": null,
   "metadata": {},
   "outputs": [],
   "source": [
    "items=[2,5,-6,4,-1,2,7,-8,3,4,7,0,-1,-4,0,4,6,-8,0,1]\n",
    "def is_positive(x):\n",
    "    return x>=0 and x%2==0\n",
    "positives=list(filter(is_positive, items))\n",
    "print(items)\n",
    "print(positives)"
   ]
  },
  {
   "cell_type": "markdown",
   "metadata": {},
   "source": [
    "The sintaxis is very similar to the ``map`` function, but now using ``filter``.\n",
    "\n",
    "``filter(function to be applied, input list)``"
   ]
  },
  {
   "cell_type": "markdown",
   "metadata": {},
   "source": [
    "### 7.3 Reduce\n",
    "\n",
    "The ``Reduce`` function will be very useful when you want to make a calculation on a list and obtain the result. For example if we want to obtain the result of multiplying the numbers of a list we would do:"
   ]
  },
  {
   "cell_type": "code",
   "execution_count": null,
   "metadata": {},
   "outputs": [],
   "source": [
    "product = 1\n",
    "numbers = [1,5,7,3,4,9,1,4,7,5,3,9,8,7,2]\n",
    "for num in numbers:\n",
    "    product *= num\n",
    "print(product)"
   ]
  },
  {
   "cell_type": "markdown",
   "metadata": {},
   "source": [
    "Using ``reduce``:"
   ]
  },
  {
   "cell_type": "code",
   "execution_count": null,
   "metadata": {},
   "outputs": [],
   "source": [
    "from functools import reduce\n",
    "numbers = [1,5,7,3,4,9,1,4,7,5,3,9,8,7,2]\n",
    "\n",
    "def multiply(x,y):\n",
    "    return x*y\n",
    "\n",
    "product = reduce(multiply, numbers)\n",
    "print(product)"
   ]
  },
  {
   "cell_type": "markdown",
   "metadata": {},
   "source": [
    "We can see that to use ``reduce`` you have to import it from ``functools`` and that it has a syntax identical to the previous cases:\n",
    "\n",
    "``reduce(function to apply, input list)``"
   ]
  },
  {
   "cell_type": "markdown",
   "metadata": {},
   "source": [
    "### 7.4 Lambda Functions\n",
    "\n",
    "In all these cases we have seen how we can compress the code, but we always have to define functions, usually very simple, only to be used once. For these occasions, there are ``anonymous functions`` or ``lambda functions``. These can be defined and used in the same line, and we save a lot of time!\n",
    "\n",
    "Their syntax is:\n",
    "\n",
    "``lambda inputs: output``\n",
    "\n",
    "We are going to rewrite the same functions as before, but using lambda functions to make it clearer with examples:"
   ]
  },
  {
   "cell_type": "code",
   "execution_count": null,
   "metadata": {},
   "outputs": [],
   "source": [
    "items = [1, 2, 3, 4, 5]\n",
    "squared = list(map(lambda x:x**2, items))\n",
    "print(items)\n",
    "print(squared)"
   ]
  },
  {
   "cell_type": "code",
   "execution_count": null,
   "metadata": {},
   "outputs": [],
   "source": [
    "items=[2,5,-6,4,-1,2,7,-8,3,4,7,0,-1,-4,0,4,6,-8,0,1]\n",
    "positives=list(filter(lambda x: x>=0 and x%2==0, items))\n",
    "print(items)\n",
    "print(positives)"
   ]
  },
  {
   "cell_type": "code",
   "execution_count": null,
   "metadata": {},
   "outputs": [],
   "source": [
    "from functools import reduce\n",
    "lista = [1,5,7,3,4,9,1,4,7,5,3,9,8,7,2]\n",
    "product = reduce(lambda x,y: x*y, lista)\n",
    "print(product)"
   ]
  },
  {
   "cell_type": "markdown",
   "metadata": {},
   "source": [
    "<div style=\"background-color:#ccffcc; padding:10px; border-radius:5px;\">\n",
    "\n",
    "\n",
    "### <span style=\"color:blue\">Exercises 11</span> \n",
    "**Map + Lambda:** Given a list of customer names, return the list with all the names with the first letter capitalized\n",
    "    \n",
    "</div>"
   ]
  },
  {
   "cell_type": "code",
   "execution_count": 5,
   "metadata": {},
   "outputs": [],
   "source": [
    "names = ['john', 'mary', 'ahmed', 'sophia', 'juan', 'elena', 'mohammed', 'olga', 'pierre', 'anastasia', 'carlos', 'amanda', \n",
    "         'yusuf', 'natasha', 'felipe', 'sofia', 'miguel', 'lucia', 'hassan', 'nina']\n",
    "\n",
    "\n",
    "### write your code here\n",
    "\n",
    "# names_capital = \n",
    "\n",
    "\n",
    "\n",
    "\n",
    "\n",
    "\n"
   ]
  },
  {
   "cell_type": "markdown",
   "metadata": {},
   "source": [
    "<div style=\"background-color:#ccffcc; padding:10px; border-radius:5px;\">\n",
    "\n",
    "\n",
    "**Filter + Lambda:** Given a list of customer names, return the list of those that start by an 'a'\n",
    "    \n",
    "</div>"
   ]
  },
  {
   "cell_type": "code",
   "execution_count": 7,
   "metadata": {
    "scrolled": true
   },
   "outputs": [],
   "source": [
    "### write your code here\n",
    "\n",
    "# names_vowel = "
   ]
  },
  {
   "cell_type": "markdown",
   "metadata": {},
   "source": [
    "<div style=\"background-color:#ccffcc; padding:10px; border-radius:5px;\">\n",
    "\n",
    "**Filter + Reduce:** Given a list of customer names, merge all of them in a single string, divided by a comma and a space (e.g.: 'john, mary, ahmed, ...')\n",
    "\n",
    "</div>"
   ]
  },
  {
   "cell_type": "code",
   "execution_count": 6,
   "metadata": {
    "scrolled": true
   },
   "outputs": [],
   "source": [
    "### write your code here\n",
    "\n",
    "# names_together ="
   ]
  },
  {
   "cell_type": "markdown",
   "metadata": {},
   "source": [
    "#### Other uses\n",
    "\n",
    "There are more occasions where a function asks for another function as an argument, where using a lambda function will be very useful. For example, if we look at the documentation of the ``sorted`` function that comes in Python by default:\n",
    "\n",
    "https://docs.python.org/3/library/functions.html#sorted"
   ]
  },
  {
   "cell_type": "code",
   "execution_count": null,
   "metadata": {
    "scrolled": true
   },
   "outputs": [],
   "source": [
    "unordered  = ['john', 'Mary', 'ahmed', 'sophia', 'Juan', 'elena', 'Mohammed', 'olga', 'pierre', 'Anastasia']\n",
    "sorted(unordered)"
   ]
  },
  {
   "cell_type": "markdown",
   "metadata": {},
   "source": [
    "If we specify a function in the optional ``key`` section:"
   ]
  },
  {
   "cell_type": "code",
   "execution_count": null,
   "metadata": {},
   "outputs": [],
   "source": [
    "sorted(unordered, key=lambda x: x.lower())"
   ]
  },
  {
   "cell_type": "markdown",
   "metadata": {},
   "source": [
    "## 8. Object-oriented language (optional)\n",
    "\n",
    "Python is an object-oriented programming language. Almost everything in Python is an object, with its properties and methods. A class is like an object constructor, or a \"space\" for creating objects.\n",
    "\n",
    "Among the concepts associated with a class are the following:\n",
    "\n",
    "+ Class: a kind of \"template\" in which the default attributes and methods of an object type are defined.\n",
    "\n",
    "+ Object: instance of a class.\n",
    "\n",
    "+ Method: functions associated to an object or a class of objects. It could be said that it is what the object can do.\n",
    "\n",
    "+ Attributes: variables associated to an object or a class of objects. It could be said that they are the characteristics that a class has. There are instance attributes to initialize the minimum attributes of the class when the class is created, and class attributes to complement the description of the object.\n",
    "\n",
    "<img src=\"Figures/clases-vEng.png\" alt=\"Drawing\" style=\"width: 300px;\"/>\n",
    "\n",
    "In Python, a class is defined with the reserved word ``class``.\n",
    "\n",
    "The ``self`` parameter is a reference to the current instance of the class and is used to access variables belonging to the class.\n",
    "\n",
    "Once an object is created, you can reference its attributes or invoke a method by means of the ``.`` operator."
   ]
  },
  {
   "cell_type": "code",
   "execution_count": null,
   "metadata": {},
   "outputs": [],
   "source": [
    "#Example: Class of a rectangle\n",
    "\n",
    "class Rectangle:\n",
    "    \"\"\"Class of a rectangle\"\"\"\n",
    "    # list of objects\n",
    "    x = 0\n",
    "    y = 0\n",
    "    \n",
    "    # list of methods\n",
    "    def area(self):\n",
    "        return self.x * self.y\n",
    "\n",
    "# Create the object 'a' by making an instance of the class Rectangle.     \n",
    "a = Rectangle()\n",
    "# Inicializar x, y \n",
    "a.x = 10\n",
    "a.y = 4\n",
    "# Calcular el area del rectangulo\n",
    "a.area()"
   ]
  },
  {
   "cell_type": "markdown",
   "metadata": {},
   "source": [
    "### 8.1 Instance attributes ``__init__()``\n",
    "\n",
    "All classes have a function called ``__init __ ()``, which is executed when the class is started and is used to initialize the instance attributes. The arguments used in the definition of ``__init__()`` correspond to the parameters to be entered when instantiating an object."
   ]
  },
  {
   "cell_type": "code",
   "execution_count": null,
   "metadata": {},
   "outputs": [],
   "source": [
    "#Example: Class of a rectangle\n",
    "\n",
    "class Rectangle:\n",
    "    \"\"\"Class of a rectangle\"\"\"\n",
    "    \n",
    "    # instance attributes\n",
    "    def __init__(self,x,y):\n",
    "        self.x = x\n",
    "        self.y = y\n",
    "\n",
    "    # list of methods\n",
    "    def area(self):\n",
    "        return self.x * self.y\n",
    "    \n",
    "a = Rectangle(10,4)\n",
    "\n",
    "a.area()"
   ]
  },
  {
   "cell_type": "markdown",
   "metadata": {},
   "source": [
    "<div style=\"background-color:#ccffcc; padding:10px; border-radius:5px;\">\n",
    "\n",
    "\n",
    "### <span style=\"color:blue\">Exercise 12</span> \n",
    "\n",
    "Add to the previous class a method to calculate the perimeter of the rectangle and another method to change the size of the rectangle by a scale factor.\n",
    "\n",
    "</div>"
   ]
  },
  {
   "cell_type": "code",
   "execution_count": null,
   "metadata": {},
   "outputs": [],
   "source": [
    "### write your code here\n",
    "\n",
    "\n",
    "\n"
   ]
  },
  {
   "cell_type": "markdown",
   "metadata": {},
   "source": [
    "### 8.2 Inheritance\n",
    "\n",
    "In object-oriented programming, inheritance is the ability to reuse a class by extending its functionality. A class that inherits from another can add new attributes, hide them, add new methods or redefine them.\n",
    "\n",
    "#### Example\n",
    "\n",
    "In the following example, the class student inherits from the class person to complement the attributes that a person can have."
   ]
  },
  {
   "cell_type": "code",
   "execution_count": null,
   "metadata": {},
   "outputs": [],
   "source": [
    "class Person:\n",
    "    def __init__(self, name, surname):\n",
    "        self.name = name\n",
    "        self.surname = surname\n",
    "\n",
    "    def printname(self):\n",
    "        print(self.name, self.surname)\n",
    "\n",
    "class Student(Person):\n",
    "    grade = 0\n",
    "    subject = 'Subject not introduced'\n",
    "\n",
    "    def printgrade(self):\n",
    "        print(self.grade)\n",
    "\n",
    "        \n",
    "x = Person(\"Homer\", \"Simpson \")\n",
    "x.printname()\n",
    "\n",
    "y = Student(\"Bart\", \"Simpson\")\n",
    "y.grade = 4.99\n",
    "y.printname()\n",
    "y.printgrade()"
   ]
  },
  {
   "cell_type": "markdown",
   "metadata": {},
   "source": [
    "## 9. Introduction to NumPy\n",
    "\n",
    "NumPy is a Python library used to work with matrices. It also has functions for working with linear algebra or Fourier transforms. NumPy stands for Numerical Python.\n",
    "\n",
    "<img src=\"Figures/NumPy_logo.png\" alt=\"Drawing\" style=\"width: 400px;\"/>\n",
    "\n",
    "As we have seen, in Python we already have lists that serve the purpose of working with arrays, but their processing is slow. NumPy aims to provide an array object that is up to 50 times faster than traditional Python lists, something important for data science where speed and resources are very important. In addition, they differ from lists in that NumPy arrays cannot be resized, all elements must be of the same type, and inter-array operations are allowed.\n",
    "\n",
    "The NumPy source code can be found in this github repository https://github.com/numpy/numpy\n",
    "\n",
    "The array object in NumPy is called ``ndarray``, it provides many support functions that make working with ``ndarray`` very easy. You can create an ndarray with NumPy with the ``.array()`` function."
   ]
  },
  {
   "cell_type": "code",
   "execution_count": null,
   "metadata": {},
   "outputs": [],
   "source": [
    "#Example\n",
    "import numpy as np #normally imported as np\n",
    "\n",
    "arr = np.array([1, 2, 3, 4, 5])\n",
    "\n",
    "print(arr)\n",
    "\n",
    "print(type(arr))"
   ]
  },
  {
   "cell_type": "markdown",
   "metadata": {},
   "source": [
    "To create an ndarray, we can use a list, tuple or any array object to the ``array()`` method, and it will become an ``ndarray``. You can create ``ndarrays`` of different dimensions. 0-D are just numbers, 1-D are vectors, 2-D are arrays, and so on.\n",
    "\n",
    "The main attributes that can be used with ``ndarrays`` are:\n",
    "\n",
    "| Attribute | Description | \n",
    "|-----------|-------------|\n",
    "| ndim |number of dimensions of the matrix| \n",
    "| shape |number of elements of each dimension of the array|\n",
    "| size |total number of elements in the matrix|\n",
    "| dtype | type of the elements of the matrix|\n",
    "| astype |to change the type of the elements of the matrix|"
   ]
  },
  {
   "cell_type": "code",
   "execution_count": null,
   "metadata": {},
   "outputs": [],
   "source": [
    "#Example\n",
    "\n",
    "a = np.array(42)\n",
    "b = np.array([1, 2, 3, 4, 5])\n",
    "c = np.array([[1, 2, 3], [4, 5, 6]])\n",
    "d = np.array([[[1, 2, 3], [4, 5, 6]], [[0, 1, 2], [3, 4, 5]]])\n",
    "\n",
    "print(a.ndim)\n",
    "print(b.ndim)\n",
    "print(c.ndim)\n",
    "print(d.ndim)\n",
    "print(d.shape)\n",
    "print(d.size)\n",
    "print(d.dtype)\n",
    "\n",
    "e = d.astype(float)\n",
    "\n",
    "print(e)\n",
    "print(e.dtype)"
   ]
  },
  {
   "cell_type": "markdown",
   "metadata": {},
   "source": [
    "### 9.1 Accessing values in an ndarray\n",
    "\n",
    "An array element can be accessed by referring to its index number. Indexes in NumPy arrays start with 0, which means that the first element has index 0, and the second has index 1, etc.\n",
    "\n",
    "To access elements of 2-D arrays we can use comma-separated integers representing the dimension and index of the element. For 3-D arrays or higher, you must add as many comma-separated integers as there are dimensions in the array."
   ]
  },
  {
   "cell_type": "code",
   "execution_count": null,
   "metadata": {},
   "outputs": [],
   "source": [
    "#Example\n",
    "\n",
    "arr = np.array([[1,2,3,4,5], [6,7,8,9,10]])\n",
    "\n",
    "print(arr[0, 1])"
   ]
  },
  {
   "cell_type": "markdown",
   "metadata": {},
   "source": [
    "Slicing can also be used in ``ndarrays``. In this case: ``array[indice_primer_elemento:indice_final:step]``"
   ]
  },
  {
   "cell_type": "markdown",
   "metadata": {},
   "source": [
    "<div style=\"background-color:#ccffcc; padding:10px; border-radius:5px;\">\n",
    "\n",
    "\n",
    "### <span style=\"color:blue\">Exercise 13</span> \n",
    "    \n",
    "</div>"
   ]
  },
  {
   "cell_type": "code",
   "execution_count": null,
   "metadata": {},
   "outputs": [],
   "source": [
    "arr = np.array([[1, 2, 3, 4, 5], [6, 7, 8, 9, 10]])\n",
    "\n",
    "# return the index 2 of the two dimensions:\n",
    "\n",
    "\n",
    "# return the interval between index 1 and 4 (not included) of the two dimensions:\n",
    "\n",
    "\n",
    "# return all elements of even-numbered positions:\n"
   ]
  },
  {
   "cell_type": "markdown",
   "metadata": {},
   "source": [
    "<div style=\"background-color:#ccffcc; padding:10px; border-radius:5px;\">\n",
    "\n",
    "\n",
    "### <span style=\"color:blue\">Exercise 14</span> \n",
    "    \n",
    "</div>"
   ]
  },
  {
   "cell_type": "markdown",
   "metadata": {},
   "source": [
    "Select the elements of each of the sets of elements in the next figure:\n",
    "\n",
    "<img src=\"Figures/numpy_indexing.png\" alt=\"Drawing\" style=\"width: 200px;\"/>"
   ]
  },
  {
   "cell_type": "code",
   "execution_count": null,
   "metadata": {},
   "outputs": [],
   "source": [
    "arr = np.array([[0,1,2,3,4,5],[10,11,12,13,14,15],[20,21,22,23,24,25],[30,31,32,33,34,35],[40,41,42,43,44,45],[50,51,52,53,54,55]])\n",
    "arr\n",
    "\n",
    "# New array with selection of red elements:\n",
    "# arr2 =\n",
    "# print(arr2)\n",
    "# New array with selection of orange elements:\n",
    "# arr3 = \n",
    "# print(arr3)\n",
    "# New array with selection of green elements:\n",
    "# arr4 = \n",
    "# print(arr4)\n",
    "# New array with selection of blue elements:\n",
    "# arr5 = \n",
    "# print(arr5)"
   ]
  },
  {
   "cell_type": "markdown",
   "metadata": {},
   "source": [
    "### 9.2 Importing arrays from .csv files\n",
    "\n",
    "Since **Comma-separated values (CSV)** files are a .TXT file type, you can import a .CSV file with the ``np.genfromtxt(file_location)`` function.\n",
    "\n",
    "The optional parameters of **genfromtxt** can be found in: https://numpy.org/doc/stable/reference/generated/numpy.genfromtxt.html\n",
    "\n",
    "| Function | Type | Description | \n",
    "|-----------|----|---------|\n",
    "|skip_header | optional | number of lines to avoid at the beginning of the file|\n",
    "|filling_values | optional |values to be used when there are no values|\n",
    "|delimiter | optional |string used to separate values (in CSV it is ',')|\n",
    "|usecols | optional | selects which columns to import, with 0 being the first (e.g. ``usecols = (1, 4, 5)``)|\n",
    "\n",
    "\n",
    "<div style=\"background-color:#ccffcc; padding:10px; border-radius:5px;\">\n",
    "\n",
    "\n",
    "### <span style=\"color:blue\">Exercise 15</span> \n",
    "    \n",
    "\n",
    "\n",
    "Look at the file **Data/block_13_daily_reduced.csv** and see how it has been imported into NumPy.\n",
    "\n",
    "Replace nan values with ``99999`` and avoid importing the first row and the first two columns.\n",
    "    \n",
    "</div>"
   ]
  },
  {
   "cell_type": "code",
   "execution_count": null,
   "metadata": {},
   "outputs": [],
   "source": [
    "data = np.genfromtxt('Data/block_13_daily_reduced.csv',delimiter=',')\n",
    "print (data)\n",
    "\n",
    "##########################\n",
    "\n",
    "# Replace nan values with 99999\n",
    "\n",
    "\n",
    "\n",
    "# Avoid importing the first row and the first two columns\n"
   ]
  },
  {
   "cell_type": "markdown",
   "metadata": {},
   "source": [
    "### 9.3 Basic functions with NumPy\n",
    "\n",
    "Here you can see a list of the most interesting functions to look at in the documentation, with some examples:\n",
    "\n",
    "| Function | Description | \n",
    "|-----------|-------------|\n",
    "| array_name.mean() |Average| \n",
    "| array_name.min() |Minimum value|\n",
    "|| array_name.max() |Maximum value|\n",
    "| | array_name.sum() |Sum of values|\n",
    "| array_name.std() |Standard deviation|\n",
    "| array_name.var() |Variance|\n",
    "| array_name.reshape(new_dimension/en) |Allows to change the dimensions|\n",
    "\n",
    "Some examples of Methods associated with NumPy:\n",
    "\n",
    "| Method | Description | \n",
    "|-----------|-------------|\n",
    "| np.amin(array_name) | minimum value |\n",
    "| np.amax(array_name) | maximum value|\n",
    "| | np.argmax(array_name) | maximum value index|\n",
    "| np.argmin(array_name) | index of the minimum value| | np.argmin(array_name) | index of the minimum value|\n",
    "| np.isnan(array_name) | value identifier Nan|\n",
    "\n",
    "For a multidimensional matrix, it is possible to do the calculation along a single dimension by passing the ``axis`` parameter to indicate the axis. For example, in 2-D, axis=0 is the column and axis=1 is the row.\n",
    "\n",
    "\n",
    "\n",
    "<div style=\"background-color:#ccffcc; padding:10px; border-radius:5px;\">\n",
    "    \n",
    "### <span style=\"color:blue\">Exercise 16</span> \n",
    "\n",
    "Practice with some of these functions or Methods from the ``data`` array.\n",
    "    \n",
    "</div>\n",
    "\n"
   ]
  },
  {
   "cell_type": "code",
   "execution_count": null,
   "metadata": {},
   "outputs": [],
   "source": [
    "# Find value and position of the maximum value\n",
    "\n",
    "\n",
    "# Find value and position of the minimum value of the second column\n",
    "\n",
    "\n",
    "# Find average value of each row\n",
    "\n",
    "\n",
    "# Find position of Nan values\n"
   ]
  },
  {
   "cell_type": "markdown",
   "metadata": {},
   "source": [
    "### 9.4 Filtering data with a Boolean array\n",
    "\n",
    "Boolean comparisons can be used to compare elements in arrays of equal size.\n",
    "\n",
    "The ``where`` function creates a new array from comparing two arrays, following the following syntax: ``where(bool_array, true_array, false_array)``"
   ]
  },
  {
   "cell_type": "code",
   "execution_count": null,
   "metadata": {},
   "outputs": [],
   "source": [
    "# Example: avoid error when dividing by zero\n",
    "\n",
    "a = np.array([1, 3, 0], float) \n",
    "np.where(a != 0, 1/a, 0) "
   ]
  },
  {
   "cell_type": "markdown",
   "metadata": {},
   "source": [
    "This can be used to create a mask by extracting the indices of an array that satisfy a given condition."
   ]
  },
  {
   "cell_type": "code",
   "execution_count": null,
   "metadata": {},
   "outputs": [],
   "source": [
    "arr = np.array([10,8,30,40])\n",
    "print (arr)\n",
    "mask = arr < 9 # boolean array with elements less than 9\n",
    "mask"
   ]
  },
  {
   "cell_type": "markdown",
   "metadata": {},
   "source": [
    "\n",
    "\n",
    "\n",
    "<div style=\"background-color:#ccffcc; padding:10px; border-radius:5px;\">\n",
    "    \n",
    "### <span style=\"color:blue\">Exercise 17</span> \n",
    "\n",
    "Rewrite the following code to obtain an array where values less than 9 are set to 10 using the previous mask array and the ``where`` function.\n",
    "    \n",
    "</div>\n",
    "\n"
   ]
  },
  {
   "cell_type": "code",
   "execution_count": null,
   "metadata": {},
   "outputs": [],
   "source": [
    "print ('Resetting all values below 9 to 10...')\n",
    "\n",
    "# wite your code here\n",
    "\n",
    "\n",
    "\n",
    "\n",
    "\n"
   ]
  },
  {
   "cell_type": "markdown",
   "metadata": {},
   "source": [
    "### For more information about NumPy\n",
    "\n",
    "* http://numpy.scipy.org\n",
    "* http://scipy.org/Tentative_NumPy_Tutorial\n",
    "* https://numpy.org/learn/"
   ]
  },
  {
   "cell_type": "markdown",
   "metadata": {},
   "source": [
    "## 10. Introducción a Pandas\n",
    "\n",
    "**Pandas is one of the most important libraries in Python for Data Science!!!!** Basically it will allow us to have ``Datasets`` opened as if they were an excel spreadsheet, that is, in matrix form with two dimensions and with indexed columns and indexes.\n",
    "\n",
    "<img src=\"Figures/Pandas.jpg\" alt=\"Drawing\" style=\"width: 800px;\"/>\n"
   ]
  },
  {
   "cell_type": "markdown",
   "metadata": {},
   "source": [
    "Pandas is used to:\n",
    "* Operate on the whole dataset or on a row or column (vectors) with high computational efficiency\n",
    "* Helps to clean data and fix missing data\n",
    "* Access subsets of data\n",
    "* Add or remove columns with new features.\n",
    "* Group data by characteristics.\n",
    "* Very efficient in joining data from different sources.\n",
    "* Work with time series."
   ]
  },
  {
   "cell_type": "markdown",
   "metadata": {},
   "source": [
    "### 10.1 Read data from a csv\n",
    "\n",
    "Most of the time we will load the files through a .csv file. Below you can see the basic code that will be used most of the time:"
   ]
  },
  {
   "cell_type": "code",
   "execution_count": null,
   "metadata": {},
   "outputs": [],
   "source": [
    "import pandas as pd\n",
    "london = pd.read_csv('Data/block_13_diario.csv')\n",
    "london.head(5)"
   ]
  },
  {
   "cell_type": "markdown",
   "metadata": {},
   "source": [
    "### 10.2 Data inspection"
   ]
  },
  {
   "cell_type": "markdown",
   "metadata": {},
   "source": [
    "If we want to know what dimensions this DataFrame has, we can look at its 'shape'."
   ]
  },
  {
   "cell_type": "code",
   "execution_count": null,
   "metadata": {},
   "outputs": [],
   "source": [
    "london.shape"
   ]
  },
  {
   "cell_type": "markdown",
   "metadata": {},
   "source": [
    "There are 32992 entries and 9 characteristics for each entry.\n",
    "\n",
    "It can be very useful to view the first or last entries of the dataset to better understand this data:"
   ]
  },
  {
   "cell_type": "code",
   "execution_count": null,
   "metadata": {},
   "outputs": [],
   "source": [
    "london.head(10)"
   ]
  },
  {
   "cell_type": "code",
   "execution_count": null,
   "metadata": {},
   "outputs": [],
   "source": [
    "london.tail()"
   ]
  },
  {
   "cell_type": "markdown",
   "metadata": {},
   "source": [
    "If we want to know the name of the columns or indexes, we can access them:"
   ]
  },
  {
   "cell_type": "code",
   "execution_count": null,
   "metadata": {},
   "outputs": [],
   "source": [
    "london.columns"
   ]
  },
  {
   "cell_type": "code",
   "execution_count": null,
   "metadata": {},
   "outputs": [],
   "source": [
    "london.columns[4]"
   ]
  },
  {
   "cell_type": "code",
   "execution_count": null,
   "metadata": {},
   "outputs": [],
   "source": [
    "london.index"
   ]
  },
  {
   "cell_type": "markdown",
   "metadata": {},
   "source": [
    "Finally, to have a very good summary, it is very useful to use the ``describe`` method."
   ]
  },
  {
   "cell_type": "code",
   "execution_count": null,
   "metadata": {},
   "outputs": [],
   "source": [
    "london.describe()"
   ]
  },
  {
   "cell_type": "markdown",
   "metadata": {},
   "source": [
    "### 10.3 Select data"
   ]
  },
  {
   "cell_type": "markdown",
   "metadata": {},
   "source": [
    "If we want to work or select only a part of the dataset, we can use **[ ]** after the dataset name, and indicate which columns we want to select."
   ]
  },
  {
   "cell_type": "code",
   "execution_count": null,
   "metadata": {},
   "outputs": [],
   "source": [
    "london[['day', 'energy_max']].head()"
   ]
  },
  {
   "cell_type": "markdown",
   "metadata": {},
   "source": [
    "If, on the other hand, you want to select a part of the rows, it will be indicated using *slicing* as in the strings:"
   ]
  },
  {
   "cell_type": "code",
   "execution_count": null,
   "metadata": {},
   "outputs": [],
   "source": [
    "london.iloc[0]"
   ]
  },
  {
   "cell_type": "markdown",
   "metadata": {},
   "source": [
    "#### loc vs iloc\n",
    "\n",
    "To select more specific parts (more than one column, several columns and only a few rows of these,...), indexing with loc or iloc will be used. The only difference between the two is that the first one is based on the *label* of the rows or columns, while iloc is based on the *integer* of these. With an example it is better understood:"
   ]
  },
  {
   "cell_type": "code",
   "execution_count": null,
   "metadata": {},
   "outputs": [],
   "source": [
    "london.loc[3:5,['day', 'energy_max']]"
   ]
  },
  {
   "cell_type": "code",
   "execution_count": null,
   "metadata": {},
   "outputs": [],
   "source": [
    "london.iloc[3:5,1:3]"
   ]
  },
  {
   "cell_type": "markdown",
   "metadata": {},
   "source": [
    "Note that the index will not always be a number and can be another parameter. For example, we can set the day as the index."
   ]
  },
  {
   "cell_type": "markdown",
   "metadata": {},
   "source": [
    "### 10.4 Filtering data\n",
    "\n",
    "Another way to select only a part of the dataset is to apply *Boolean indexing*, which is nothing more than applying a filter to the data. For example, we will select only those days in which the maximum energy has been greater than 1."
   ]
  },
  {
   "cell_type": "code",
   "execution_count": null,
   "metadata": {},
   "outputs": [],
   "source": [
    "london['energy_max'] > 1"
   ]
  },
  {
   "cell_type": "markdown",
   "metadata": {},
   "source": [
    "As you can see, now we have selected those columns that meet our condition. What if we put it directly inside the dataset when we select only one part?"
   ]
  },
  {
   "cell_type": "code",
   "execution_count": null,
   "metadata": {},
   "outputs": [],
   "source": [
    "london[london['energy_max'] > 1]\n",
    "\n",
    "# Here we see that all the rows are no longer displayed\n",
    "\n",
    "# london[london['energy_max'] > 1.5]"
   ]
  },
  {
   "cell_type": "markdown",
   "metadata": {},
   "source": [
    "\n",
    "\n",
    "<div style=\"background-color:#ccffcc; padding:10px; border-radius:5px;\">\n",
    "    \n",
    "### <span style=\"color:blue\">Exercise 18</span> \n",
    "\n",
    "Obtain a summary table of the parameters for the counter with ID 'MAC000113'\n",
    "    \n",
    "</div>\n",
    "\n"
   ]
  },
  {
   "cell_type": "code",
   "execution_count": null,
   "metadata": {},
   "outputs": [],
   "source": [
    "# wite your code here\n",
    "\n",
    "\n",
    "\n"
   ]
  },
  {
   "cell_type": "code",
   "execution_count": null,
   "metadata": {},
   "outputs": [],
   "source": [
    "##########################################################################\n",
    "# Use the method .describe() to obtain the summary table of the parameters\n",
    "\n",
    "\n",
    "# We see that there is some missing value in one of the columns. This can also be checked with the method .isna().sum()\n",
    "\n"
   ]
  },
  {
   "cell_type": "markdown",
   "metadata": {},
   "source": [
    "### 10.5 Interesting basic functions\n",
    "\n",
    "Here you can see a list of the most interesting functions to look at in the documentation, with some examples:\n",
    "\n",
    "| Function | Description |\n",
    "|-----------|---------------|\n",
    "| count() |Number of non-null observations|  \n",
    "| sum() |Sum of values|\n",
    "| mean() |Average of observations | \n",
    "| median() |Median of observations |\n",
    "| min() |Minimum value|\n",
    "| max() |Maximum value|\n",
    "| std() |Standard deviation|\n",
    "| var() | Variance|\n",
    "| value_counts() | Unique values in each column - freq table|\n",
    "| nunique() | Number of distinct values|\n",
    "|  isnull() | Mask for null or Nan|\n",
    "\n",
    "\n",
    "\n",
    "<div style=\"background-color:#ccffcc; padding:10px; border-radius:5px;\">\n",
    " \n",
    "### <span style=\"color:blue\">Exercise 19</span> \n",
    "Practice with some of these functions.\n",
    "    \n",
    "</div>\n",
    "\n"
   ]
  },
  {
   "cell_type": "code",
   "execution_count": null,
   "metadata": {},
   "outputs": [],
   "source": [
    "# Total energy value for ID 'MAC000113'\n",
    "\n",
    "\n",
    "# How many different counters are there and what are their names?\n"
   ]
  },
  {
   "cell_type": "code",
   "execution_count": null,
   "metadata": {},
   "outputs": [],
   "source": [
    "# What was the maximum (hourly) energy value on May 15, 2013?\n"
   ]
  },
  {
   "cell_type": "code",
   "execution_count": null,
   "metadata": {},
   "outputs": [],
   "source": [
    "# What was the maximum daily energy consumption value on May 15, 2013?\n",
    "\n"
   ]
  },
  {
   "cell_type": "markdown",
   "metadata": {},
   "source": [
    "### 10.6 Manipulating dataframes\n",
    "\n",
    "You can apply a function to some column using the *apply* method and remembering the lambda functions!"
   ]
  },
  {
   "cell_type": "code",
   "execution_count": null,
   "metadata": {},
   "outputs": [],
   "source": [
    "london['energy_var'] = london['energy_std'].apply(lambda x: x**2)\n",
    "london.head()"
   ]
  },
  {
   "cell_type": "markdown",
   "metadata": {},
   "source": [
    "\n",
    "\n",
    "<div style=\"background-color:#ccffcc; padding:10px; border-radius:5px;\">\n",
    " \n",
    "### <span style=\"color:blue\">Exercise 20</span> \n",
    "Create a new column named 'ID' with only the last 6 digits of 'LCLid'.\n",
    "    \n",
    "</div>\n",
    "\n"
   ]
  },
  {
   "cell_type": "code",
   "execution_count": null,
   "metadata": {},
   "outputs": [],
   "source": [
    "# wite your code here\n",
    "\n",
    "\n",
    "\n",
    "\n",
    "\n"
   ]
  },
  {
   "cell_type": "code",
   "execution_count": null,
   "metadata": {},
   "outputs": [],
   "source": [
    "london.head()"
   ]
  },
  {
   "cell_type": "markdown",
   "metadata": {},
   "source": [
    "### 10.7 Sort\n",
    "\n",
    "If you want to sort values, you can use ``sort_values``. With an example it's better understood:\n"
   ]
  },
  {
   "cell_type": "code",
   "execution_count": null,
   "metadata": {},
   "outputs": [],
   "source": [
    "london.sort_values(by='energy_max', ascending= False, inplace=True)\n",
    "london.head()"
   ]
  },
  {
   "cell_type": "markdown",
   "metadata": {},
   "source": [
    "### 10.8 Group\n",
    "\n",
    "Finally, a very useful function is the group function (group_by).\n",
    "\n",
    "For example, imagine that you want to group all the data by counter number and take some parameter from this counter (maximum, minimum, etc.).\n",
    "\n",
    "The result of this operation will be another dataframe with the data grouped according to a variable. In addition, you must also indicate which *aggregation* function you want to use (max, min, mean, count, sum, etc.).\n",
    "\n",
    "Let's see an example!"
   ]
  },
  {
   "cell_type": "code",
   "execution_count": null,
   "metadata": {},
   "outputs": [],
   "source": [
    "smart_meters = london[['LCLid','energy_max', 'energy_min', 'energy_sum']].groupby('LCLid').count()\n",
    "# smart_meters = london[['LCLid','energy_max', 'energy_min', 'energy_sum']].groupby('LCLid').mean()\n",
    "smart_meters"
   ]
  },
  {
   "cell_type": "markdown",
   "metadata": {},
   "source": [
    "### 10.9 Merge\n",
    "\n",
    "Often we will have the desired information in different databases, files or datasets. Pandas offers us the option to join and merge datasets with *merge*.\n",
    "\n",
    "Let's see an example with the dataset *london*. \n",
    "\n",
    "If we load another dataset with the information of each house we obtain:"
   ]
  },
  {
   "cell_type": "code",
   "execution_count": null,
   "metadata": {},
   "outputs": [],
   "source": [
    "import pandas as pd\n",
    "\n",
    "london = pd.read_csv('Data/block_13_daily.csv')\n",
    "london.head(5)"
   ]
  },
  {
   "cell_type": "code",
   "execution_count": null,
   "metadata": {},
   "outputs": [],
   "source": [
    "houses = pd.read_csv('Data/informations_households.csv')\n",
    "houses.head(5)"
   ]
  },
  {
   "cell_type": "markdown",
   "metadata": {},
   "source": [
    "We can see how for each counter, it gives us information about where we can find more parameters of that counter and groups them by groups called Acorn. To know more about these, go directly to the repository of this dataset and inspect in detail.\n",
    "\n",
    "Anyway, if we want to gather all the information in the same dataset, we would have to make a merge:\n",
    "\n",
    "<img src=\"Figures/Panda Data Wrangling Cheat Sheet 2.jpeg\" alt=\"Drawing\" style=\"width: 500px;\"/>\n",
    "\n",
    "\n",
    "Where the possible *how* modes refer to:\n",
    "\n",
    "<img src=\"Figures/merge_options.png\" alt=\"Drawing\" style=\"width: 500px;\"/>\n"
   ]
  },
  {
   "cell_type": "code",
   "execution_count": null,
   "metadata": {},
   "outputs": [],
   "source": [
    "combined = pd.merge(london, houses, how='left', on='LCLid')\n",
    "combined.head(5)"
   ]
  },
  {
   "cell_type": "markdown",
   "metadata": {},
   "source": [
    "### 10.10 Other\n",
    "\n",
    "There are many more functions that can be used with Pandas. We encourage you to take a look at their documentation, forums, cheat sheets, courses,...\n",
    "\n",
    "https://pandas.pydata.org/pandas-docs/stable/index.html"
   ]
  },
  {
   "cell_type": "markdown",
   "metadata": {},
   "source": [
    "## 11. Graphics creation (Homework)\n",
    "\n",
    "In Python there are several libraries to create graphics such as Bokeh, Altair, Pandas or Matplotlib.\n",
    "\n",
    "<img src=\"Figures/four_logos.png\" alt=\"Drawing\" style=\"width: 800px;\"/>\n",
    "\n",
    "In this course we will learn the basic functions of matplotlib, since the other libraries are always based on it and it will help us to know how to use them as well."
   ]
  },
  {
   "cell_type": "markdown",
   "metadata": {},
   "source": [
    "### 11.1 Matplotlib.pyplot\n",
    "\n",
    "The module used is pyplot from matplotlib. All its documentation can be found here:\n",
    "\n",
    "https://matplotlib.org/api/pyplot_api.html#module-matplotlib.pyplot\n",
    "\n",
    "Let's import it!"
   ]
  },
  {
   "cell_type": "code",
   "execution_count": null,
   "metadata": {},
   "outputs": [],
   "source": [
    "import matplotlib.pyplot as plt"
   ]
  },
  {
   "cell_type": "markdown",
   "metadata": {},
   "source": [
    "The two most important instances in pyplot are\n",
    "* figure: in matplotlib.figure.Figure, a *figure* is where the graphics will go. It is the canvas where one or more graphics can be placed.\n",
    "* axes: in matplotlib.axes.Axes, we find where the actual graphics will go.\n",
    "\n",
    "Let's create a first test graph:"
   ]
  },
  {
   "cell_type": "code",
   "execution_count": null,
   "metadata": {},
   "outputs": [],
   "source": [
    "import matplotlib.pyplot as plt\n",
    "import numpy as np\n",
    "\n",
    "plt.plot([1,2,3,4,5,6,7,8,9,10],[1,4,8,16,25,36,49,64,81,100])\n",
    "plt.show()"
   ]
  },
  {
   "cell_type": "markdown",
   "metadata": {},
   "source": [
    "In this case we have created a plot using *plot*, where the first argument is the x-axis and the second the y-axis (they must be of the same dimensions). \n",
    "\n",
    "We can add other information such as title and name of the axes:"
   ]
  },
  {
   "cell_type": "code",
   "execution_count": null,
   "metadata": {},
   "outputs": [],
   "source": [
    "import matplotlib.pyplot as plt\n",
    "\n",
    "plt.plot([1,2,3,4],[1,4,8,16])\n",
    "plt.title('Our first plot!')\n",
    "plt.xlabel('X axis')\n",
    "plt.ylabel('Y axis')\n",
    "plt.show()"
   ]
  },
  {
   "cell_type": "markdown",
   "metadata": {},
   "source": [
    "### 11.2 Customize plots\n",
    "\n",
    "If you want to change the size of the chart, this is where you will have to use the term *figure* discussed above. We remember that *figure* was the canvas where we put one or more graphics. In this case, we only put one.\n",
    "\n",
    "Here we can see how to set up a *figure* with some predetermined measures:"
   ]
  },
  {
   "cell_type": "code",
   "execution_count": null,
   "metadata": {},
   "outputs": [],
   "source": [
    "plt.figure(figsize=(20,5))\n",
    "plt.plot([1,2,3,4],[1,4,8,16])\n",
    "plt.show()"
   ]
  },
  {
   "cell_type": "markdown",
   "metadata": {},
   "source": [
    "For each chart you can also determine the style of the chart with a third argument:"
   ]
  },
  {
   "cell_type": "code",
   "execution_count": null,
   "metadata": {},
   "outputs": [],
   "source": [
    "plt.plot([1,2,3,4],[1,4,8,16],'r^')\n",
    "plt.show()\n",
    "\n",
    "# https://matplotlib.org/stable/api/_as_gen/matplotlib.pyplot.plot.html\n",
    "\n",
    "# character\tdescription\n",
    "# '.'\tpoint marker\n",
    "# ','\tpixel marker\n",
    "# 'o'\tcircle marker\n",
    "# 'v'\ttriangle_down marker\n",
    "# '^'\ttriangle_up marker\n",
    "# '<'\ttriangle_left marker\n",
    "# '>'\ttriangle_right marker\n",
    "# '1'\ttri_down marker\n",
    "# '2'\ttri_up marker\n",
    "# '3'\ttri_left marker\n",
    "# '4'\ttri_right marker\n",
    "# '8'\toctagon marker\n",
    "# 's'\tsquare marker\n",
    "# 'p'\tpentagon marker\n",
    "# 'P'\tplus (filled) marker\n",
    "# '*'\tstar marker\n",
    "# 'h'\thexagon1 marker\n",
    "# 'H'\thexagon2 marker\n",
    "# '+'\tplus marker\n",
    "# 'x'\tx marker\n",
    "# 'X'\tx (filled) marker\n",
    "# 'D'\tdiamond marker\n",
    "# 'd'\tthin_diamond marker\n",
    "# '|'\tvline marker\n",
    "# '_'\thline marker"
   ]
  },
  {
   "cell_type": "markdown",
   "metadata": {},
   "source": [
    "And we can put more than one graphic in the same plot, indicating in the legend what each thing is:"
   ]
  },
  {
   "cell_type": "code",
   "execution_count": null,
   "metadata": {},
   "outputs": [],
   "source": [
    "plt.plot([1,2,3,4],[1,4,8,16],'g-',label='first')\n",
    "plt.plot([1,2,3,4],[1,6,12,6],'r-', label='second')\n",
    "plt.title('Now we have two graphics!')\n",
    "plt.xlabel('X axis')\n",
    "plt.ylabel('Y axis')\n",
    "plt.legend()\n",
    "plt.show()"
   ]
  },
  {
   "cell_type": "markdown",
   "metadata": {},
   "source": [
    "### 11.3 Subplots\n",
    "\n",
    "To represent different plots with different axes you can use Subplots. The subplot method has 3 arguments: number of rows, number of columns and index. Let's see with an example how to use it:"
   ]
  },
  {
   "cell_type": "code",
   "execution_count": null,
   "metadata": {},
   "outputs": [],
   "source": [
    "plt.figure(figsize=(15,2))\n",
    "\n",
    "plt.subplot(1,2,1)\n",
    "plt.plot([1,2,3,4],[1,4,9,16],'go')\n",
    "plt.title('Left')\n",
    "plt.xlabel('X Left')\n",
    "plt.ylabel('Y Left')\n",
    "\n",
    "plt.subplot(1,2,2)\n",
    "plt.plot([1,2,3,4],[1,6,12,6],'r-')\n",
    "plt.title('Right')\n",
    "plt.xlabel('X Right')\n",
    "plt.ylabel('Y Right')"
   ]
  },
  {
   "cell_type": "markdown",
   "metadata": {},
   "source": [
    "Or, for example:"
   ]
  },
  {
   "cell_type": "code",
   "execution_count": null,
   "metadata": {},
   "outputs": [],
   "source": [
    "plt.figure(figsize=(10,10))\n",
    "\n",
    "plt.subplot(2,1,1)\n",
    "plt.plot([1,2,3,4],[1,4,9,16],'go')\n",
    "plt.title('Above')\n",
    "plt.xlabel('X above')\n",
    "plt.ylabel('Y above')\n",
    "\n",
    "plt.subplot(2,1,2)\n",
    "plt.plot([1,2,3,4],[1,6,12,6],'r-')\n",
    "plt.title('Below')\n",
    "plt.xlabel('X Below')\n",
    "plt.ylabel('Y Below')"
   ]
  },
  {
   "cell_type": "markdown",
   "metadata": {},
   "source": [
    "### 11.4 Bar chart\n",
    "\n",
    "To make a bar chart instead of `plot` we will use `bar`, following a very similar structure.\n",
    "\n",
    "Recall the dataset from before:"
   ]
  },
  {
   "cell_type": "code",
   "execution_count": null,
   "metadata": {},
   "outputs": [],
   "source": [
    "meters = london[['LCLid','energy_max', 'energy_min', 'energy_sum']].groupby('LCLid').mean()\n",
    "meters.head(10)"
   ]
  },
  {
   "cell_type": "markdown",
   "metadata": {},
   "source": [
    "We can make a bar chart:"
   ]
  },
  {
   "cell_type": "code",
   "execution_count": null,
   "metadata": {},
   "outputs": [],
   "source": [
    "divisions = meters.index[:10]\n",
    "marks = meters['energy_max'][:10]\n",
    "\n",
    "plt.figure(figsize=(20,10))\n",
    "plt.bar(divisions, marks, color = 'blue')\n",
    "plt.xlabel('Meter')\n",
    "plt.ylabel('Maximum Energy')\n",
    "plt.xticks(rotation=45, ha='right')"
   ]
  },
  {
   "cell_type": "markdown",
   "metadata": {},
   "source": [
    "Or in horizontal bars, using `barh`:"
   ]
  },
  {
   "cell_type": "code",
   "execution_count": null,
   "metadata": {},
   "outputs": [],
   "source": [
    "divisions=meters.index[:10]\n",
    "marks=meters['energy_max'][:10]\n",
    "\n",
    "plt.figure(figsize=(20,10))\n",
    "plt.barh(divisions, marks, color = 'blue')\n",
    "plt.ylabel('Meter')\n",
    "plt.xlabel('Maximum Energy')"
   ]
  },
  {
   "cell_type": "markdown",
   "metadata": {},
   "source": [
    "### 11.5 Histogram\n",
    "\n",
    "Let's see with an example how to make a histogram:"
   ]
  },
  {
   "cell_type": "code",
   "execution_count": null,
   "metadata": {},
   "outputs": [],
   "source": [
    "plt.hist([1,5,8,7,4,1,2,4,3,6,5,4,6,3,2,3,6,9,8,5,4,1,6,9,8,7,8,8,8,7,4,7,8,8,9,9,8,7,8,9,6,9,8,7,8,9,6,6,3,2,9,8,1,9,4,1,5,6,5,6,9,6,5,8,5,6,9,6,3,2,1,4,5,8,7,8,9],9)\n"
   ]
  },
  {
   "cell_type": "code",
   "execution_count": null,
   "metadata": {},
   "outputs": [],
   "source": [
    "plt.hist([1,5,8,7,4,1,2,4,3,6,5,4,6,3,2,3,6,9,8,5,4,1,6,9,8,7,8,8,8,7,4,7,8,8,9,9,8,7,8,9,6,9,8,7,8,9,6,6,3,2,9,8,1,9,4,1,5,6,5,6,9,6,5,8,5,6,9,6,3,2,1,4,5,8,7,8,9],3)"
   ]
  },
  {
   "cell_type": "markdown",
   "metadata": {},
   "source": [
    "\n",
    "<div style=\"background-color:#ccffcc; padding:10px; border-radius:5px;\">\n",
    "\n",
    "### <span style=\"color:blue\">Exercise 21</span> \n",
    "Generate a histogram of the maximum energy of the MAC000113 meter.\n",
    "    \n",
    "</div>"
   ]
  },
  {
   "cell_type": "code",
   "execution_count": null,
   "metadata": {},
   "outputs": [],
   "source": [
    "#london dataset filtering only one LCLid from MAC000113\n",
    "\n",
    "\n",
    "# maximum energy of this meter\n"
   ]
  },
  {
   "cell_type": "code",
   "execution_count": null,
   "metadata": {},
   "outputs": [],
   "source": []
  },
  {
   "cell_type": "code",
   "execution_count": null,
   "metadata": {},
   "outputs": [],
   "source": []
  },
  {
   "cell_type": "code",
   "execution_count": null,
   "metadata": {},
   "outputs": [],
   "source": []
  },
  {
   "cell_type": "code",
   "execution_count": null,
   "metadata": {},
   "outputs": [],
   "source": []
  },
  {
   "cell_type": "markdown",
   "metadata": {},
   "source": [
    "## Interactive Plots: Plotly"
   ]
  },
  {
   "cell_type": "markdown",
   "metadata": {},
   "source": [
    "There are interactive plots, where you can zoom in and out, select data, etc. "
   ]
  },
  {
   "cell_type": "code",
   "execution_count": null,
   "metadata": {},
   "outputs": [],
   "source": [
    "!pip install plotly"
   ]
  },
  {
   "cell_type": "code",
   "execution_count": null,
   "metadata": {},
   "outputs": [],
   "source": [
    "import plotly.graph_objects as go\n",
    "\n",
    "# Create traces\n",
    "fig = go.Figure()\n",
    "fig.add_trace(go.Scatter(x=meter_113['day'], y=meter_113['energy_max'],\n",
    "                    mode='lines',\n",
    "                    name='Energy max - lines'))\n",
    "fig.add_trace(go.Scatter(x=meter_113['day'], y=meter_113['energy_min'],\n",
    "                    mode='lines+markers',\n",
    "                    name='Energy min - lines+markers'))\n",
    "fig.add_trace(go.Scatter(x=meter_113['day'], y=meter_113['energy_mean'],\n",
    "                     mode='markers', name='energy_mean - markers'))\n",
    "\n",
    "\n",
    "# Edit the layout\n",
    "fig.update_layout(title='Summary ID MAC000113 consumptions',\n",
    "                   xaxis_title='Month - Year',\n",
    "                   yaxis_title='Energy (kWh)')\n",
    "\n",
    "\n",
    "fig.show()"
   ]
  },
  {
   "cell_type": "code",
   "execution_count": null,
   "metadata": {},
   "outputs": [],
   "source": []
  }
 ],
 "metadata": {
  "kernelspec": {
   "display_name": "Python 3 (ipykernel)",
   "language": "python",
   "name": "python3"
  },
  "language_info": {
   "codemirror_mode": {
    "name": "ipython",
    "version": 3
   },
   "file_extension": ".py",
   "mimetype": "text/x-python",
   "name": "python",
   "nbconvert_exporter": "python",
   "pygments_lexer": "ipython3",
   "version": "3.10.13"
  }
 },
 "nbformat": 4,
 "nbformat_minor": 4
}
