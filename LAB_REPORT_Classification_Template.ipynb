{
 "cells": [
  {
   "cell_type": "markdown",
   "id": "acd3aec8",
   "metadata": {},
   "source": [
    "<div class=\"alert alert-success\">\n",
    "     <b>  </b>\n",
    "   \n",
    "## LAB REPORT Classification. Important Information:\n",
    "\n",
    "* This lab report must be completed **individually**.\n",
    "* Please upload your completed report to Atenea.\n",
    "* You have one week to complete and submit the report.\n",
    "</div>\n"
   ]
  },
  {
   "cell_type": "markdown",
   "id": "385df777",
   "metadata": {},
   "source": [
    "\n",
    "Dataset can be found in [Kaggle](#https://www.kaggle.com/datasets/alexteboul/diabetes-health-indicators-dataset) \n",
    "\n",
    "The target variable **Diabetes_binary** has 2 classes. \n",
    "* 0 is for no diabetes, \n",
    "* 1 is for prediabetes or diabetes. \n",
    "\n"
   ]
  },
  {
   "cell_type": "markdown",
   "id": "67ed72c8",
   "metadata": {},
   "source": [
    "### What represents each column?\n",
    "\n",
    "**(LABEL) Diabetes_binary:** Description: Indicates whether an individual has diabetes (1) or not (0). This is likely the target or outcome variable of the dataset.\n",
    "\n",
    "\n",
    "**HighBP:** Indicates if the person has high blood pressure (1) or not (0).\n",
    "\n",
    "\n",
    "**HighChol:** Indicates if the individual has high cholesterol levels (1) or not (0).\n",
    "\n",
    "**CholCheck:** Whether the individual has had their cholesterol checked (1) in the last 5 years or not (0).\n",
    "\n",
    "**BMI:** The individual’s Body Mass Index (BMI), a measure of body fat based on height and weight.\n",
    "\n",
    "**Smoker:** Indicates whether the individual is a smoker (1) or not (0).\n",
    "\n",
    "\n",
    "**Stroke:** Indicates if the individual has had a stroke (1) or not (0).\n",
    "\n",
    "\n",
    "**HeartDiseaseorAttack:** Whether the individual has had coronary heart disease or myocardial infarction (1) or not (0).\n",
    "\n",
    "**PhysActivity:** Indicates if the individual has engaged in physical activity or exercise in the last 30 days - not including job (1) or not (0).\n",
    "\n",
    "\n",
    "**Fruits:** Indicates whether the individual consumes 1 fruit or more daily (1) or not (0).\n",
    "\n",
    "\n",
    "**Veggies:** Indicates whether the individual consumes 1 vegetable or more daily (1) or not (0).\n",
    "\n",
    "**HeavyAlcoholCons:** Heavy drinkers (adult men having more than 14 drinks per week and adult women having more than 7 drinks per week) (1) or not (0)\n",
    "\n",
    "**AnyHealthcare:** Indicates whether the person has access to any form of healthcare coverage (1) or not (0).\n",
    "\n",
    "**NoDocbcCost:** Whether the person could not visit a doctor in the past year due to cost (1) or not (0).\n",
    "\n",
    "**GenHlth:** Self-reported general health status, where lower values (1) indicate better health (e.g., excellent) and higher values (5) indicate worse health (e.g., poor).\n",
    "\n",
    "**MentHlth:** Number of days in the past 30 days that the individual experienced poor mental health (stress, depression, and problems with emotions).\n",
    "\n",
    "**PhysHlth:** Number of days in the past 30 days that the individual experienced poor physical health (physical illness and injury).\n",
    "\n",
    "**DiffWalk:** Indicates whether the individual has difficulty walking or climbing stairs (1) or not (0).\n",
    "\n",
    "\n",
    "**Sex:** Gender of the individual, 0 = female; 1 = male.\n",
    "\n",
    "**Age:** Represents age group categories. 13-level age category. \n",
    "* 1: 18-24 years old\n",
    "* 2: 25-29 years old\n",
    "* ...\n",
    "* 13: 80 years or older\n",
    "\n",
    "**Education:** Represents the highest level of education attained. \n",
    "* 1: Never attended school\n",
    "* 2: Elementary school\n",
    "* ...\n",
    "* 6: College graduate.\n",
    "\n",
    "**Income:** Represents income categories. Scale 1-8\n",
    "\n",
    "* 1: Less than 10 000 \n",
    "* 2: 10 000 to 14 999\n",
    "* ...\n",
    "* 8: 75 000 or more."
   ]
  },
  {
   "cell_type": "markdown",
   "id": "c45e951b",
   "metadata": {},
   "source": [
    "# Import libraries"
   ]
  },
  {
   "cell_type": "code",
   "execution_count": 3,
   "id": "524ba021",
   "metadata": {},
   "outputs": [],
   "source": [
    "\n",
    "\n",
    "\n"
   ]
  },
  {
   "cell_type": "markdown",
   "id": "23d25fa8",
   "metadata": {},
   "source": [
    "# Load dataset"
   ]
  },
  {
   "cell_type": "code",
   "execution_count": null,
   "id": "9d158dc7",
   "metadata": {},
   "outputs": [],
   "source": [
    "\n",
    "\n",
    "\n",
    "\n",
    "\n"
   ]
  },
  {
   "cell_type": "markdown",
   "id": "cce0e5e6",
   "metadata": {},
   "source": [
    "# **1. Understanding the data**\n",
    "\n",
    "It is necessary to visualize and understand the data we are going to work with, as well as to know its characteristics. \n",
    "\n",
    "* How much data is there? How many attributes are there in the data?  \n",
    "* Is there any missing data? \n",
    "* Are the labels balanced? \n",
    "* Statistical summary of the input data set (Statistics Table)\n",
    "* If String/Object data, transform this data into numerical values\n",
    "* Other methods to understand the data (if needed)"
   ]
  },
  {
   "cell_type": "code",
   "execution_count": null,
   "id": "7f8da46b",
   "metadata": {},
   "outputs": [],
   "source": []
  },
  {
   "cell_type": "code",
   "execution_count": null,
   "id": "686799f8",
   "metadata": {},
   "outputs": [],
   "source": []
  },
  {
   "cell_type": "code",
   "execution_count": null,
   "id": "96e29c15",
   "metadata": {},
   "outputs": [],
   "source": []
  },
  {
   "cell_type": "code",
   "execution_count": null,
   "id": "bab2cf62",
   "metadata": {},
   "outputs": [],
   "source": []
  },
  {
   "cell_type": "code",
   "execution_count": null,
   "id": "365d4fdc",
   "metadata": {},
   "outputs": [],
   "source": []
  },
  {
   "cell_type": "markdown",
   "id": "4ac645f4",
   "metadata": {},
   "source": [
    "# **2. Visualize the data**.\n",
    "\n",
    "A visual way to understand the input data. \n",
    "* Histogram\n",
    "* Density curve\n",
    "* Boxplots\n",
    "* Scatter plots\n",
    "* Correlation matrix\n",
    "* Other visualization methods, if needed."
   ]
  },
  {
   "cell_type": "code",
   "execution_count": null,
   "id": "96e32cbc",
   "metadata": {},
   "outputs": [],
   "source": []
  },
  {
   "cell_type": "code",
   "execution_count": null,
   "id": "565d6b82",
   "metadata": {},
   "outputs": [],
   "source": []
  },
  {
   "cell_type": "code",
   "execution_count": null,
   "id": "6e1aa533",
   "metadata": {},
   "outputs": [],
   "source": []
  },
  {
   "cell_type": "code",
   "execution_count": null,
   "id": "90565af0",
   "metadata": {},
   "outputs": [],
   "source": []
  },
  {
   "cell_type": "code",
   "execution_count": null,
   "id": "5b9da7bb",
   "metadata": {},
   "outputs": [],
   "source": []
  },
  {
   "cell_type": "markdown",
   "id": "32002f61",
   "metadata": {},
   "source": [
    "# 3. **Prepare the data.**\n",
    "\n",
    "* Take care of missing data (if you have not done this already)\n",
    "* Data cleaning (remove outliers, if necessary).\n",
    "* Feature engineering (create new features/ delete non relevant ones/ etc. Iterative process)\n"
   ]
  },
  {
   "cell_type": "code",
   "execution_count": null,
   "id": "d19465cd",
   "metadata": {},
   "outputs": [],
   "source": []
  },
  {
   "cell_type": "code",
   "execution_count": null,
   "id": "acbd9836",
   "metadata": {},
   "outputs": [],
   "source": []
  },
  {
   "cell_type": "code",
   "execution_count": null,
   "id": "32e6d7b8",
   "metadata": {},
   "outputs": [],
   "source": []
  },
  {
   "cell_type": "code",
   "execution_count": null,
   "id": "99fbc84a",
   "metadata": {},
   "outputs": [],
   "source": []
  },
  {
   "cell_type": "code",
   "execution_count": null,
   "id": "9b8ba9d3",
   "metadata": {},
   "outputs": [],
   "source": []
  },
  {
   "cell_type": "code",
   "execution_count": null,
   "id": "024f791f",
   "metadata": {},
   "outputs": [],
   "source": []
  },
  {
   "cell_type": "code",
   "execution_count": null,
   "id": "f8403377",
   "metadata": {},
   "outputs": [],
   "source": []
  },
  {
   "cell_type": "markdown",
   "id": "31855656",
   "metadata": {},
   "source": [
    "# 4. Divide data into ``train/ test`` or ``train/validation/test`` datasets\n",
    "\n",
    "* Transformation (scale your data, if needed). "
   ]
  },
  {
   "cell_type": "code",
   "execution_count": null,
   "id": "bad99f4e",
   "metadata": {},
   "outputs": [],
   "source": []
  },
  {
   "cell_type": "code",
   "execution_count": null,
   "id": "9372ff91",
   "metadata": {},
   "outputs": [],
   "source": []
  },
  {
   "cell_type": "code",
   "execution_count": null,
   "id": "f5185f62",
   "metadata": {},
   "outputs": [],
   "source": []
  },
  {
   "cell_type": "code",
   "execution_count": null,
   "id": "19853d4e",
   "metadata": {},
   "outputs": [],
   "source": []
  },
  {
   "cell_type": "code",
   "execution_count": null,
   "id": "9f11bd90",
   "metadata": {},
   "outputs": [],
   "source": []
  },
  {
   "cell_type": "code",
   "execution_count": null,
   "id": "019e05f8",
   "metadata": {},
   "outputs": [],
   "source": []
  },
  {
   "cell_type": "markdown",
   "id": "8f03e44f",
   "metadata": {},
   "source": [
    "# 5. Models building and comparison\n",
    "\n",
    "* Select the correct evaluation metric or metrics (https://scikit-learn.org/stable/modules/model_evaluation.html)\n",
    "* Remember to always use the same random_state to be able to repeat results."
   ]
  },
  {
   "cell_type": "code",
   "execution_count": null,
   "id": "2439fd64",
   "metadata": {},
   "outputs": [],
   "source": []
  },
  {
   "cell_type": "code",
   "execution_count": null,
   "id": "f53e1919",
   "metadata": {},
   "outputs": [],
   "source": []
  },
  {
   "cell_type": "code",
   "execution_count": null,
   "id": "da4ef08a",
   "metadata": {},
   "outputs": [],
   "source": []
  },
  {
   "cell_type": "markdown",
   "id": "8d0cb167",
   "metadata": {},
   "source": [
    "* Which model(s) obtains better result(s)?\n"
   ]
  },
  {
   "cell_type": "code",
   "execution_count": null,
   "id": "16d2427c",
   "metadata": {},
   "outputs": [],
   "source": []
  },
  {
   "cell_type": "code",
   "execution_count": null,
   "id": "04a8c136",
   "metadata": {},
   "outputs": [],
   "source": []
  },
  {
   "cell_type": "markdown",
   "id": "d6a235fb",
   "metadata": {},
   "source": [
    "# 6. Adjust hyperparameters.\n",
    "\n",
    "Steps to perform the hyperadjustment of the parameters in the best model or models selected from step 5):\n",
    "\n",
    "* Select the Evaluation Metrics\n",
    "* Define search hyperparameter ranges: model params\n"
   ]
  },
  {
   "cell_type": "code",
   "execution_count": null,
   "id": "959a38ed",
   "metadata": {},
   "outputs": [],
   "source": []
  },
  {
   "cell_type": "code",
   "execution_count": null,
   "id": "6743ecf7",
   "metadata": {},
   "outputs": [],
   "source": []
  },
  {
   "cell_type": "code",
   "execution_count": null,
   "id": "baad34f6",
   "metadata": {},
   "outputs": [],
   "source": []
  },
  {
   "cell_type": "code",
   "execution_count": null,
   "id": "2d306325",
   "metadata": {},
   "outputs": [],
   "source": []
  },
  {
   "cell_type": "code",
   "execution_count": null,
   "id": "284c8973",
   "metadata": {},
   "outputs": [],
   "source": []
  },
  {
   "cell_type": "markdown",
   "id": "38fe79cb",
   "metadata": {},
   "source": [
    "# **7. Final evaluation of the model**\n",
    "\n",
    "Train the model with the optimal hyperparameters found in the previous section and make the predictions.\n",
    "\n"
   ]
  },
  {
   "cell_type": "code",
   "execution_count": null,
   "id": "c2853f8e",
   "metadata": {},
   "outputs": [],
   "source": []
  },
  {
   "cell_type": "code",
   "execution_count": null,
   "id": "d9645068",
   "metadata": {},
   "outputs": [],
   "source": []
  },
  {
   "cell_type": "code",
   "execution_count": null,
   "id": "4536752f",
   "metadata": {},
   "outputs": [],
   "source": []
  },
  {
   "cell_type": "code",
   "execution_count": null,
   "id": "90987ac9",
   "metadata": {},
   "outputs": [],
   "source": []
  },
  {
   "cell_type": "markdown",
   "id": "533dd286",
   "metadata": {},
   "source": [
    "#### Model results conclusions"
   ]
  },
  {
   "cell_type": "code",
   "execution_count": null,
   "id": "262c2515",
   "metadata": {},
   "outputs": [],
   "source": [
    "\n",
    "\n",
    "\n",
    "\n",
    "\n",
    "\n",
    "\n"
   ]
  },
  {
   "cell_type": "markdown",
   "id": "0c5a8c81",
   "metadata": {},
   "source": [
    "# Where the results satisfactory? Repeat the steps if necessary for improving the model\n",
    "\n",
    "* Retrain the model again trying different approaches: balacing the minority class, adding new input parameters, deleting non relevant input features, trying setting up different hyperparams, etc. \n",
    "* Copy and paste below the steps you wish to repeat and run the code from this point onwards (do not delete the code above).\n",
    "* Repeat the process as many time as you think is necessary, until you reach a good result. Justify why you select that model and not others. "
   ]
  },
  {
   "cell_type": "code",
   "execution_count": null,
   "id": "0f5ebb19",
   "metadata": {},
   "outputs": [],
   "source": []
  },
  {
   "cell_type": "code",
   "execution_count": null,
   "id": "f787bc34",
   "metadata": {},
   "outputs": [],
   "source": []
  },
  {
   "cell_type": "code",
   "execution_count": null,
   "id": "f9cc2ec2",
   "metadata": {},
   "outputs": [],
   "source": []
  },
  {
   "cell_type": "code",
   "execution_count": null,
   "id": "27a32f05",
   "metadata": {},
   "outputs": [],
   "source": []
  },
  {
   "cell_type": "code",
   "execution_count": null,
   "id": "26d719d5",
   "metadata": {},
   "outputs": [],
   "source": []
  },
  {
   "cell_type": "code",
   "execution_count": null,
   "id": "8f5b4cb8",
   "metadata": {},
   "outputs": [],
   "source": []
  },
  {
   "cell_type": "code",
   "execution_count": null,
   "id": "30774f90",
   "metadata": {},
   "outputs": [],
   "source": []
  },
  {
   "cell_type": "code",
   "execution_count": null,
   "id": "46d229f6",
   "metadata": {},
   "outputs": [],
   "source": []
  },
  {
   "cell_type": "code",
   "execution_count": null,
   "id": "142e1343",
   "metadata": {},
   "outputs": [],
   "source": []
  },
  {
   "cell_type": "code",
   "execution_count": null,
   "id": "4b0b5fc5",
   "metadata": {},
   "outputs": [],
   "source": []
  },
  {
   "cell_type": "code",
   "execution_count": null,
   "id": "108a2b63",
   "metadata": {},
   "outputs": [],
   "source": []
  },
  {
   "cell_type": "code",
   "execution_count": null,
   "id": "f79649ca",
   "metadata": {},
   "outputs": [],
   "source": []
  },
  {
   "cell_type": "code",
   "execution_count": null,
   "id": "3a4402be",
   "metadata": {},
   "outputs": [],
   "source": []
  },
  {
   "cell_type": "markdown",
   "id": "ac1a843a",
   "metadata": {},
   "source": [
    "# Final conclusion"
   ]
  },
  {
   "cell_type": "code",
   "execution_count": null,
   "id": "f0987c54",
   "metadata": {},
   "outputs": [],
   "source": [
    "\n",
    "\n",
    "\n",
    "\n",
    "\n",
    "\n"
   ]
  }
 ],
 "metadata": {
  "kernelspec": {
   "display_name": "Python 3 (ipykernel)",
   "language": "python",
   "name": "python3"
  },
  "language_info": {
   "codemirror_mode": {
    "name": "ipython",
    "version": 3
   },
   "file_extension": ".py",
   "mimetype": "text/x-python",
   "name": "python",
   "nbconvert_exporter": "python",
   "pygments_lexer": "ipython3",
   "version": "3.11.5"
  }
 },
 "nbformat": 4,
 "nbformat_minor": 5
}
